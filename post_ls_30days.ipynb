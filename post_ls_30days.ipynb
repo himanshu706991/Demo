{
 "cells": [
  {
   "cell_type": "code",
   "execution_count": 1,
   "metadata": {},
   "outputs": [],
   "source": [
    "import pandas as pd\n",
    "from datetime import datetime\n",
    "import numpy as np\n",
    "import seaborn as sns\n",
    "import matplotlib.pyplot as plt\n",
    "from scipy import stats\n",
    "from sklearn.model_selection import train_test_split\n",
    "from sklearn.feature_selection import SelectKBest\n",
    "from sklearn.feature_selection import chi2\n",
    "from sklearn.feature_selection import f_classif\n",
    "from sklearn.preprocessing import StandardScaler\n",
    "import warnings\n",
    "warnings.filterwarnings(\"ignore\")"
   ]
  },
  {
   "cell_type": "code",
   "execution_count": 2,
   "metadata": {},
   "outputs": [
    {
     "data": {
      "text/plain": [
       "(172202, 44)"
      ]
     },
     "execution_count": 2,
     "metadata": {},
     "output_type": "execute_result"
    }
   ],
   "source": [
    "data = pd.read_csv(r'post_ls_30days_may.txt',sep='\\t')\n",
    "data.shape"
   ]
  },
  {
   "cell_type": "code",
   "execution_count": 3,
   "metadata": {},
   "outputs": [
    {
     "data": {
      "text/html": [
       "<div>\n",
       "<style scoped>\n",
       "    .dataframe tbody tr th:only-of-type {\n",
       "        vertical-align: middle;\n",
       "    }\n",
       "\n",
       "    .dataframe tbody tr th {\n",
       "        vertical-align: top;\n",
       "    }\n",
       "\n",
       "    .dataframe thead th {\n",
       "        text-align: right;\n",
       "    }\n",
       "</style>\n",
       "<table border=\"1\" class=\"dataframe\">\n",
       "  <thead>\n",
       "    <tr style=\"text-align: right;\">\n",
       "      <th></th>\n",
       "      <th>Co_id</th>\n",
       "      <th>activation_dt</th>\n",
       "      <th>AON</th>\n",
       "      <th>AGE</th>\n",
       "      <th>NUMBER_OF_OS_BILLS</th>\n",
       "      <th>RECURRING_AMT</th>\n",
       "      <th>NATIONALITY</th>\n",
       "      <th>value_base_seg</th>\n",
       "      <th>BARRING_STATUS</th>\n",
       "      <th>ACTIVATION_CHANNEL_TYPE</th>\n",
       "      <th>...</th>\n",
       "      <th>jan_bill</th>\n",
       "      <th>CIVIL_ID_VOICE_IN_COMMITMENT_LINE_CNT</th>\n",
       "      <th>CIVIL_ID_VOICE_NOT_COMMITTED_LINE_CNT</th>\n",
       "      <th>CIVIL_ID_DATA_IN_COMMITMENT_LINE_CNT</th>\n",
       "      <th>CIVIL_ID_DATA_NOT_COMMITTED_LINE_CNT</th>\n",
       "      <th>A_freeze_status</th>\n",
       "      <th>D_freeze_status</th>\n",
       "      <th>TOP_LOC_5G</th>\n",
       "      <th>congested_flag</th>\n",
       "      <th>churn</th>\n",
       "    </tr>\n",
       "  </thead>\n",
       "  <tbody>\n",
       "    <tr>\n",
       "      <th>0</th>\n",
       "      <td>14086666</td>\n",
       "      <td>6/1/2016</td>\n",
       "      <td>1339</td>\n",
       "      <td>51</td>\n",
       "      <td>1</td>\n",
       "      <td>?</td>\n",
       "      <td>Kuwait</td>\n",
       "      <td>1 WBB H</td>\n",
       "      <td>BARRED</td>\n",
       "      <td>?</td>\n",
       "      <td>...</td>\n",
       "      <td>0.000</td>\n",
       "      <td>1</td>\n",
       "      <td>0</td>\n",
       "      <td>1</td>\n",
       "      <td>0</td>\n",
       "      <td>?</td>\n",
       "      <td>?</td>\n",
       "      <td>?</td>\n",
       "      <td>?</td>\n",
       "      <td>0</td>\n",
       "    </tr>\n",
       "    <tr>\n",
       "      <th>1</th>\n",
       "      <td>13431983</td>\n",
       "      <td>2/18/2016</td>\n",
       "      <td>1443</td>\n",
       "      <td>32</td>\n",
       "      <td>1</td>\n",
       "      <td>?</td>\n",
       "      <td>India</td>\n",
       "      <td>2 WBB M</td>\n",
       "      <td>BARRED</td>\n",
       "      <td>?</td>\n",
       "      <td>...</td>\n",
       "      <td>6.000</td>\n",
       "      <td>0</td>\n",
       "      <td>0</td>\n",
       "      <td>1</td>\n",
       "      <td>0</td>\n",
       "      <td>?</td>\n",
       "      <td>?</td>\n",
       "      <td>N</td>\n",
       "      <td>Y</td>\n",
       "      <td>0</td>\n",
       "    </tr>\n",
       "    <tr>\n",
       "      <th>2</th>\n",
       "      <td>10367687</td>\n",
       "      <td>6/1/2015</td>\n",
       "      <td>1705</td>\n",
       "      <td>38</td>\n",
       "      <td>1</td>\n",
       "      <td>8.000</td>\n",
       "      <td>India</td>\n",
       "      <td>2 WBB M</td>\n",
       "      <td>BARRED</td>\n",
       "      <td>?</td>\n",
       "      <td>...</td>\n",
       "      <td>6.500</td>\n",
       "      <td>0</td>\n",
       "      <td>0</td>\n",
       "      <td>1</td>\n",
       "      <td>0</td>\n",
       "      <td>?</td>\n",
       "      <td>?</td>\n",
       "      <td>Y</td>\n",
       "      <td>Y</td>\n",
       "      <td>0</td>\n",
       "    </tr>\n",
       "    <tr>\n",
       "      <th>3</th>\n",
       "      <td>16538266</td>\n",
       "      <td>10/1/2017</td>\n",
       "      <td>852</td>\n",
       "      <td>29</td>\n",
       "      <td>1</td>\n",
       "      <td>15.000</td>\n",
       "      <td>Kuwait</td>\n",
       "      <td>1 WBB H</td>\n",
       "      <td>BARRED</td>\n",
       "      <td>?</td>\n",
       "      <td>...</td>\n",
       "      <td>9.000</td>\n",
       "      <td>0</td>\n",
       "      <td>1</td>\n",
       "      <td>1</td>\n",
       "      <td>2</td>\n",
       "      <td>?</td>\n",
       "      <td>?</td>\n",
       "      <td>Y</td>\n",
       "      <td>Y</td>\n",
       "      <td>0</td>\n",
       "    </tr>\n",
       "    <tr>\n",
       "      <th>4</th>\n",
       "      <td>19522544</td>\n",
       "      <td>7/28/2019</td>\n",
       "      <td>187</td>\n",
       "      <td>39</td>\n",
       "      <td>1</td>\n",
       "      <td>37.000</td>\n",
       "      <td>Kuwait</td>\n",
       "      <td>1 WBB H</td>\n",
       "      <td>NOT BARRED</td>\n",
       "      <td>?</td>\n",
       "      <td>...</td>\n",
       "      <td>27.000</td>\n",
       "      <td>2</td>\n",
       "      <td>0</td>\n",
       "      <td>2</td>\n",
       "      <td>0</td>\n",
       "      <td>?</td>\n",
       "      <td>?</td>\n",
       "      <td>?</td>\n",
       "      <td>?</td>\n",
       "      <td>0</td>\n",
       "    </tr>\n",
       "    <tr>\n",
       "      <th>...</th>\n",
       "      <td>...</td>\n",
       "      <td>...</td>\n",
       "      <td>...</td>\n",
       "      <td>...</td>\n",
       "      <td>...</td>\n",
       "      <td>...</td>\n",
       "      <td>...</td>\n",
       "      <td>...</td>\n",
       "      <td>...</td>\n",
       "      <td>...</td>\n",
       "      <td>...</td>\n",
       "      <td>...</td>\n",
       "      <td>...</td>\n",
       "      <td>...</td>\n",
       "      <td>...</td>\n",
       "      <td>...</td>\n",
       "      <td>...</td>\n",
       "      <td>...</td>\n",
       "      <td>...</td>\n",
       "      <td>...</td>\n",
       "      <td>...</td>\n",
       "    </tr>\n",
       "    <tr>\n",
       "      <th>172197</th>\n",
       "      <td>13531232</td>\n",
       "      <td>3/3/2016</td>\n",
       "      <td>1429</td>\n",
       "      <td>64</td>\n",
       "      <td>2</td>\n",
       "      <td>12.000</td>\n",
       "      <td>Kuwait</td>\n",
       "      <td>1 WBB H</td>\n",
       "      <td>BARRED</td>\n",
       "      <td>?</td>\n",
       "      <td>...</td>\n",
       "      <td>10.000</td>\n",
       "      <td>0</td>\n",
       "      <td>0</td>\n",
       "      <td>1</td>\n",
       "      <td>0</td>\n",
       "      <td>?</td>\n",
       "      <td>?</td>\n",
       "      <td>?</td>\n",
       "      <td>?</td>\n",
       "      <td>0</td>\n",
       "    </tr>\n",
       "    <tr>\n",
       "      <th>172198</th>\n",
       "      <td>11882279</td>\n",
       "      <td>6/1/2015</td>\n",
       "      <td>1705</td>\n",
       "      <td>?</td>\n",
       "      <td>?</td>\n",
       "      <td>0.000</td>\n",
       "      <td>?</td>\n",
       "      <td>2 WBB M</td>\n",
       "      <td>?</td>\n",
       "      <td>?</td>\n",
       "      <td>...</td>\n",
       "      <td>4.200</td>\n",
       "      <td>?</td>\n",
       "      <td>?</td>\n",
       "      <td>?</td>\n",
       "      <td>?</td>\n",
       "      <td>?</td>\n",
       "      <td>?</td>\n",
       "      <td>?</td>\n",
       "      <td>?</td>\n",
       "      <td>0</td>\n",
       "    </tr>\n",
       "    <tr>\n",
       "      <th>172199</th>\n",
       "      <td>19139483</td>\n",
       "      <td>4/27/2019</td>\n",
       "      <td>279</td>\n",
       "      <td>34</td>\n",
       "      <td>1</td>\n",
       "      <td>?</td>\n",
       "      <td>Kuwait</td>\n",
       "      <td>1 WBB H</td>\n",
       "      <td>NOT BARRED</td>\n",
       "      <td>?</td>\n",
       "      <td>...</td>\n",
       "      <td>12.000</td>\n",
       "      <td>1</td>\n",
       "      <td>0</td>\n",
       "      <td>0</td>\n",
       "      <td>1</td>\n",
       "      <td>?</td>\n",
       "      <td>?</td>\n",
       "      <td>?</td>\n",
       "      <td>?</td>\n",
       "      <td>0</td>\n",
       "    </tr>\n",
       "    <tr>\n",
       "      <th>172200</th>\n",
       "      <td>17368056</td>\n",
       "      <td>4/21/2018</td>\n",
       "      <td>650</td>\n",
       "      <td>38</td>\n",
       "      <td>3</td>\n",
       "      <td>6.000</td>\n",
       "      <td>Syrian Arab Republic</td>\n",
       "      <td>2 WBB M</td>\n",
       "      <td>BARRED</td>\n",
       "      <td>?</td>\n",
       "      <td>...</td>\n",
       "      <td>7.500</td>\n",
       "      <td>1</td>\n",
       "      <td>0</td>\n",
       "      <td>2</td>\n",
       "      <td>0</td>\n",
       "      <td>?</td>\n",
       "      <td>?</td>\n",
       "      <td>N</td>\n",
       "      <td>Y</td>\n",
       "      <td>0</td>\n",
       "    </tr>\n",
       "    <tr>\n",
       "      <th>172201</th>\n",
       "      <td>17219358</td>\n",
       "      <td>3/24/2018</td>\n",
       "      <td>678</td>\n",
       "      <td>56</td>\n",
       "      <td>1</td>\n",
       "      <td>6.000</td>\n",
       "      <td>Jordan</td>\n",
       "      <td>1 WBB H</td>\n",
       "      <td>BARRED</td>\n",
       "      <td>?</td>\n",
       "      <td>...</td>\n",
       "      <td>9.000</td>\n",
       "      <td>0</td>\n",
       "      <td>0</td>\n",
       "      <td>1</td>\n",
       "      <td>0</td>\n",
       "      <td>?</td>\n",
       "      <td>?</td>\n",
       "      <td>?</td>\n",
       "      <td>?</td>\n",
       "      <td>0</td>\n",
       "    </tr>\n",
       "  </tbody>\n",
       "</table>\n",
       "<p>172202 rows × 44 columns</p>\n",
       "</div>"
      ],
      "text/plain": [
       "           Co_id activation_dt   AON AGE NUMBER_OF_OS_BILLS RECURRING_AMT  \\\n",
       "0       14086666      6/1/2016  1339  51                  1             ?   \n",
       "1       13431983     2/18/2016  1443  32                  1             ?   \n",
       "2       10367687      6/1/2015  1705  38                  1         8.000   \n",
       "3       16538266     10/1/2017   852  29                  1        15.000   \n",
       "4       19522544     7/28/2019   187  39                  1        37.000   \n",
       "...          ...           ...   ...  ..                ...           ...   \n",
       "172197  13531232      3/3/2016  1429  64                  2        12.000   \n",
       "172198  11882279      6/1/2015  1705   ?                  ?         0.000   \n",
       "172199  19139483     4/27/2019   279  34                  1             ?   \n",
       "172200  17368056     4/21/2018   650  38                  3         6.000   \n",
       "172201  17219358     3/24/2018   678  56                  1         6.000   \n",
       "\n",
       "                 NATIONALITY value_base_seg BARRING_STATUS  \\\n",
       "0                     Kuwait        1 WBB H         BARRED   \n",
       "1                      India        2 WBB M         BARRED   \n",
       "2                      India        2 WBB M         BARRED   \n",
       "3                     Kuwait        1 WBB H         BARRED   \n",
       "4                     Kuwait        1 WBB H     NOT BARRED   \n",
       "...                      ...            ...            ...   \n",
       "172197                Kuwait        1 WBB H         BARRED   \n",
       "172198                     ?        2 WBB M              ?   \n",
       "172199                Kuwait        1 WBB H     NOT BARRED   \n",
       "172200  Syrian Arab Republic        2 WBB M         BARRED   \n",
       "172201                Jordan        1 WBB H         BARRED   \n",
       "\n",
       "       ACTIVATION_CHANNEL_TYPE  ... jan_bill  \\\n",
       "0                            ?  ...    0.000   \n",
       "1                            ?  ...    6.000   \n",
       "2                            ?  ...    6.500   \n",
       "3                            ?  ...    9.000   \n",
       "4                            ?  ...   27.000   \n",
       "...                        ...  ...      ...   \n",
       "172197                       ?  ...   10.000   \n",
       "172198                       ?  ...    4.200   \n",
       "172199                       ?  ...   12.000   \n",
       "172200                       ?  ...    7.500   \n",
       "172201                       ?  ...    9.000   \n",
       "\n",
       "       CIVIL_ID_VOICE_IN_COMMITMENT_LINE_CNT  \\\n",
       "0                                          1   \n",
       "1                                          0   \n",
       "2                                          0   \n",
       "3                                          0   \n",
       "4                                          2   \n",
       "...                                      ...   \n",
       "172197                                     0   \n",
       "172198                                     ?   \n",
       "172199                                     1   \n",
       "172200                                     1   \n",
       "172201                                     0   \n",
       "\n",
       "       CIVIL_ID_VOICE_NOT_COMMITTED_LINE_CNT  \\\n",
       "0                                          0   \n",
       "1                                          0   \n",
       "2                                          0   \n",
       "3                                          1   \n",
       "4                                          0   \n",
       "...                                      ...   \n",
       "172197                                     0   \n",
       "172198                                     ?   \n",
       "172199                                     0   \n",
       "172200                                     0   \n",
       "172201                                     0   \n",
       "\n",
       "       CIVIL_ID_DATA_IN_COMMITMENT_LINE_CNT  \\\n",
       "0                                         1   \n",
       "1                                         1   \n",
       "2                                         1   \n",
       "3                                         1   \n",
       "4                                         2   \n",
       "...                                     ...   \n",
       "172197                                    1   \n",
       "172198                                    ?   \n",
       "172199                                    0   \n",
       "172200                                    2   \n",
       "172201                                    1   \n",
       "\n",
       "       CIVIL_ID_DATA_NOT_COMMITTED_LINE_CNT A_freeze_status D_freeze_status  \\\n",
       "0                                         0               ?               ?   \n",
       "1                                         0               ?               ?   \n",
       "2                                         0               ?               ?   \n",
       "3                                         2               ?               ?   \n",
       "4                                         0               ?               ?   \n",
       "...                                     ...             ...             ...   \n",
       "172197                                    0               ?               ?   \n",
       "172198                                    ?               ?               ?   \n",
       "172199                                    1               ?               ?   \n",
       "172200                                    0               ?               ?   \n",
       "172201                                    0               ?               ?   \n",
       "\n",
       "        TOP_LOC_5G congested_flag churn  \n",
       "0                ?              ?     0  \n",
       "1                N              Y     0  \n",
       "2                Y              Y     0  \n",
       "3                Y              Y     0  \n",
       "4                ?              ?     0  \n",
       "...            ...            ...   ...  \n",
       "172197           ?              ?     0  \n",
       "172198           ?              ?     0  \n",
       "172199           ?              ?     0  \n",
       "172200           N              Y     0  \n",
       "172201           ?              ?     0  \n",
       "\n",
       "[172202 rows x 44 columns]"
      ]
     },
     "execution_count": 3,
     "metadata": {},
     "output_type": "execute_result"
    }
   ],
   "source": [
    "data"
   ]
  },
  {
   "cell_type": "code",
   "execution_count": 4,
   "metadata": {},
   "outputs": [
    {
     "name": "stdout",
     "output_type": "stream",
     "text": [
      "<class 'pandas.core.frame.DataFrame'>\n",
      "RangeIndex: 172202 entries, 0 to 172201\n",
      "Data columns (total 44 columns):\n",
      "Co_id                                    172202 non-null int64\n",
      "activation_dt                            172202 non-null object\n",
      "AON                                      172202 non-null int64\n",
      "AGE                                      172202 non-null object\n",
      "NUMBER_OF_OS_BILLS                       172202 non-null object\n",
      "RECURRING_AMT                            172202 non-null object\n",
      "NATIONALITY                              172202 non-null object\n",
      "value_base_seg                           172202 non-null object\n",
      "BARRING_STATUS                           172202 non-null object\n",
      "ACTIVATION_CHANNEL_TYPE                  172202 non-null object\n",
      "LAST_BILL_AMT                            172202 non-null object\n",
      "LAST_PAY_AMT                             172202 non-null object\n",
      "TOT_BILLED_OS_AMT                        172202 non-null object\n",
      "jan_out_call_dur                         172202 non-null object\n",
      "COMMIT_MONTH                             172202 non-null object\n",
      "Contarct_status                          172202 non-null object\n",
      "LEFT_DAYS                                172202 non-null object\n",
      "FiveG_plan                               172202 non-null int64\n",
      "LEFT_MONTHS                              172202 non-null object\n",
      "sim_device_commit                        172202 non-null object\n",
      "jan_package                              172202 non-null object\n",
      "jan_offer_price                          172202 non-null object\n",
      "GTL_FACTOR                               172202 non-null int64\n",
      "jan_complaints                           172202 non-null object\n",
      "shared_sim                               172202 non-null int64\n",
      "child_sim                                172202 non-null int64\n",
      "jan_revenue                              172202 non-null object\n",
      "OTT                                      172202 non-null object\n",
      "jan_call_amt                             172202 non-null object\n",
      "jan_data_usage                           172202 non-null object\n",
      "jan_in_call_amt                          172202 non-null object\n",
      "jan_in_call_cnt                          172202 non-null object\n",
      "jan_out_call_amt                         172202 non-null object\n",
      "jan_out_call_cnt                         172202 non-null object\n",
      "jan_bill                                 172202 non-null object\n",
      "CIVIL_ID_VOICE_IN_COMMITMENT_LINE_CNT    172202 non-null object\n",
      "CIVIL_ID_VOICE_NOT_COMMITTED_LINE_CNT    172202 non-null object\n",
      "CIVIL_ID_DATA_IN_COMMITMENT_LINE_CNT     172202 non-null object\n",
      "CIVIL_ID_DATA_NOT_COMMITTED_LINE_CNT     172202 non-null object\n",
      "A_freeze_status                          172202 non-null object\n",
      "D_freeze_status                          172202 non-null object\n",
      "TOP_LOC_5G                               172202 non-null object\n",
      "congested_flag                           172202 non-null object\n",
      "churn                                    172202 non-null int64\n",
      "dtypes: int64(7), object(37)\n",
      "memory usage: 57.8+ MB\n"
     ]
    }
   ],
   "source": [
    "data.info()"
   ]
  },
  {
   "cell_type": "code",
   "execution_count": 5,
   "metadata": {},
   "outputs": [
    {
     "data": {
      "text/plain": [
       "Index(['Co_id', 'activation_dt', 'AON', 'AGE', 'NUMBER_OF_OS_BILLS',\n",
       "       'RECURRING_AMT', 'NATIONALITY', 'value_base_seg', 'BARRING_STATUS',\n",
       "       'ACTIVATION_CHANNEL_TYPE', 'LAST_BILL_AMT', 'LAST_PAY_AMT',\n",
       "       'TOT_BILLED_OS_AMT', 'jan_out_call_dur', 'COMMIT_MONTH',\n",
       "       'Contarct_status', 'LEFT_DAYS', 'FiveG_plan', 'LEFT_MONTHS',\n",
       "       'sim_device_commit', 'jan_package', 'jan_offer_price', 'GTL_FACTOR',\n",
       "       'jan_complaints', 'shared_sim', 'child_sim', 'jan_revenue', 'OTT',\n",
       "       'jan_call_amt', 'jan_data_usage', 'jan_in_call_amt', 'jan_in_call_cnt',\n",
       "       'jan_out_call_amt', 'jan_out_call_cnt', 'jan_bill',\n",
       "       'CIVIL_ID_VOICE_IN_COMMITMENT_LINE_CNT',\n",
       "       'CIVIL_ID_VOICE_NOT_COMMITTED_LINE_CNT',\n",
       "       'CIVIL_ID_DATA_IN_COMMITMENT_LINE_CNT',\n",
       "       'CIVIL_ID_DATA_NOT_COMMITTED_LINE_CNT', 'A_freeze_status',\n",
       "       'D_freeze_status', 'TOP_LOC_5G', 'congested_flag', 'churn'],\n",
       "      dtype='object')"
      ]
     },
     "execution_count": 5,
     "metadata": {},
     "output_type": "execute_result"
    }
   ],
   "source": [
    "data.columns"
   ]
  },
  {
   "cell_type": "code",
   "execution_count": 36,
   "metadata": {},
   "outputs": [],
   "source": [
    "num_data = data[['AON', 'AGE', 'NUMBER_OF_OS_BILLS',\n",
    "       'RECURRING_AMT', 'LAST_BILL_AMT', 'LAST_PAY_AMT',\n",
    "       'TOT_BILLED_OS_AMT', 'jan_out_call_dur', 'COMMIT_MONTH',\n",
    "       'LEFT_DAYS', 'FiveG_plan', 'LEFT_MONTHS',\n",
    "       'jan_package', 'jan_offer_price', 'GTL_FACTOR',\n",
    "       'jan_complaints', 'shared_sim', 'child_sim', 'jan_revenue', 'OTT',\n",
    "       'jan_call_amt', 'jan_data_usage', 'jan_in_call_amt', 'jan_in_call_cnt',\n",
    "       'jan_out_call_amt', 'jan_out_call_cnt', 'jan_bill',\n",
    "       'CIVIL_ID_VOICE_IN_COMMITMENT_LINE_CNT',\n",
    "       'CIVIL_ID_VOICE_NOT_COMMITTED_LINE_CNT',\n",
    "       'CIVIL_ID_DATA_IN_COMMITMENT_LINE_CNT',\n",
    "       'CIVIL_ID_DATA_NOT_COMMITTED_LINE_CNT', 'churn']].replace('?',0).astype('float64')"
   ]
  },
  {
   "cell_type": "code",
   "execution_count": 37,
   "metadata": {},
   "outputs": [
    {
     "data": {
      "text/plain": [
       "Index(['AON', 'AGE', 'NUMBER_OF_OS_BILLS', 'RECURRING_AMT', 'LAST_BILL_AMT',\n",
       "       'LAST_PAY_AMT', 'TOT_BILLED_OS_AMT', 'jan_out_call_dur', 'COMMIT_MONTH',\n",
       "       'LEFT_DAYS', 'FiveG_plan', 'LEFT_MONTHS', 'jan_package',\n",
       "       'jan_offer_price', 'GTL_FACTOR', 'jan_complaints', 'shared_sim',\n",
       "       'child_sim', 'jan_revenue', 'OTT', 'jan_call_amt', 'jan_data_usage',\n",
       "       'jan_in_call_amt', 'jan_in_call_cnt', 'jan_out_call_amt',\n",
       "       'jan_out_call_cnt', 'jan_bill', 'CIVIL_ID_VOICE_IN_COMMITMENT_LINE_CNT',\n",
       "       'CIVIL_ID_VOICE_NOT_COMMITTED_LINE_CNT',\n",
       "       'CIVIL_ID_DATA_IN_COMMITMENT_LINE_CNT',\n",
       "       'CIVIL_ID_DATA_NOT_COMMITTED_LINE_CNT', 'churn', 'Co_id'],\n",
       "      dtype='object')"
      ]
     },
     "execution_count": 37,
     "metadata": {},
     "output_type": "execute_result"
    }
   ],
   "source": [
    "num_data1 = pd.concat([num_data,data['Co_id']],axis=1)\n",
    "num_data1.columns"
   ]
  },
  {
   "cell_type": "code",
   "execution_count": 38,
   "metadata": {},
   "outputs": [
    {
     "data": {
      "text/plain": [
       "churn                                    1.000000\n",
       "CIVIL_ID_DATA_NOT_COMMITTED_LINE_CNT     0.075623\n",
       "CIVIL_ID_VOICE_NOT_COMMITTED_LINE_CNT    0.036467\n",
       "RECURRING_AMT                            0.036331\n",
       "CIVIL_ID_DATA_IN_COMMITMENT_LINE_CNT     0.036150\n",
       "jan_out_call_amt                         0.031954\n",
       "LAST_PAY_AMT                             0.021828\n",
       "AON                                      0.016789\n",
       "LAST_BILL_AMT                            0.016406\n",
       "jan_out_call_cnt                         0.014473\n",
       "CIVIL_ID_VOICE_IN_COMMITMENT_LINE_CNT    0.014132\n",
       "TOT_BILLED_OS_AMT                        0.013655\n",
       "jan_data_usage                           0.013509\n",
       "NUMBER_OF_OS_BILLS                       0.009555\n",
       "jan_offer_price                          0.005826\n",
       "FiveG_plan                               0.005111\n",
       "jan_revenue                              0.005040\n",
       "jan_bill                                 0.003865\n",
       "GTL_FACTOR                               0.003811\n",
       "AGE                                      0.001930\n",
       "COMMIT_MONTH                             0.001754\n",
       "LEFT_MONTHS                              0.001483\n",
       "LEFT_DAYS                                0.000786\n",
       "jan_package                              0.000684\n",
       "jan_in_call_amt                          0.000306\n",
       "jan_in_call_cnt                          0.000125\n",
       "jan_out_call_dur                              NaN\n",
       "jan_complaints                                NaN\n",
       "shared_sim                                    NaN\n",
       "child_sim                                     NaN\n",
       "OTT                                           NaN\n",
       "jan_call_amt                                  NaN\n",
       "Name: churn, dtype: float64"
      ]
     },
     "execution_count": 38,
     "metadata": {},
     "output_type": "execute_result"
    }
   ],
   "source": [
    "rr = num_data.corr()\n",
    "sorted_corrs = rr['churn'].abs().sort_values(ascending = False)\n",
    "sorted_corrs"
   ]
  },
  {
   "cell_type": "code",
   "execution_count": 39,
   "metadata": {},
   "outputs": [],
   "source": [
    "num_data = num_data.drop(['jan_out_call_dur',                              \n",
    "'jan_complaints',                                \n",
    "'shared_sim',                                    \n",
    "'child_sim',                                     \n",
    "'OTT',                                           \n",
    "'jan_call_amt'],axis=1)"
   ]
  },
  {
   "cell_type": "code",
   "execution_count": 40,
   "metadata": {},
   "outputs": [
    {
     "data": {
      "text/plain": [
       "<matplotlib.axes._subplots.AxesSubplot at 0x19f59d25348>"
      ]
     },
     "execution_count": 40,
     "metadata": {},
     "output_type": "execute_result"
    },
    {
     "data": {
      "image/png": "[encoded data removed]",
      "text/plain": [
       "<Figure size 720x504 with 2 Axes>"
      ]
     },
     "metadata": {
      "needs_background": "light"
     },
     "output_type": "display_data"
    }
   ],
   "source": [
    "mask = np.triu(np.ones_like(rr, dtype=np.bool))\n",
    "f, ax = plt.subplots(figsize=(10, 7))\n",
    "cmap = sns.diverging_palette(220, 10, as_cmap=True)\n",
    "sns.heatmap(rr, mask=mask, cmap=cmap, vmax=.3, center=0,\n",
    "            square=True, linewidths=.5, cbar_kws={\"shrink\": .5})"
   ]
  },
  {
   "cell_type": "code",
   "execution_count": 41,
   "metadata": {},
   "outputs": [
    {
     "data": {
      "text/plain": [
       "<matplotlib.axes._subplots.AxesSubplot at 0x19f58e0f948>"
      ]
     },
     "execution_count": 41,
     "metadata": {},
     "output_type": "execute_result"
    },
    {
     "data": {
      "image/png": "[encoded data removed]",
      "text/plain": [
       "<Figure size 792x648 with 2 Axes>"
      ]
     },
     "metadata": {
      "needs_background": "light"
     },
     "output_type": "display_data"
    }
   ],
   "source": [
    "mask = np.triu(np.ones_like(rr, dtype=np.bool))\n",
    "f, ax = plt.subplots(figsize=(11, 9))\n",
    "cmap = sns.diverging_palette(220, 10, as_cmap=True)\n",
    "sns.heatmap(rr, mask=mask, cmap=cmap, vmax=.3, center=0,\n",
    "            square=True, linewidths=.5, cbar_kws={\"shrink\": .5})"
   ]
  },
  {
   "cell_type": "code",
   "execution_count": 42,
   "metadata": {},
   "outputs": [],
   "source": [
    "object_data = data[['value_base_seg', 'BARRING_STATUS',\n",
    "       'ACTIVATION_CHANNEL_TYPE','Contarct_status','sim_device_commit','A_freeze_status',\n",
    "       'D_freeze_status', 'TOP_LOC_5G', 'congested_flag']]\n",
    "object_data = pd.get_dummies(object_data,dummy_na=True)"
   ]
  },
  {
   "cell_type": "code",
   "execution_count": 43,
   "metadata": {},
   "outputs": [
    {
     "data": {
      "text/html": [
       "<div>\n",
       "<style scoped>\n",
       "    .dataframe tbody tr th:only-of-type {\n",
       "        vertical-align: middle;\n",
       "    }\n",
       "\n",
       "    .dataframe tbody tr th {\n",
       "        vertical-align: top;\n",
       "    }\n",
       "\n",
       "    .dataframe thead th {\n",
       "        text-align: right;\n",
       "    }\n",
       "</style>\n",
       "<table border=\"1\" class=\"dataframe\">\n",
       "  <thead>\n",
       "    <tr style=\"text-align: right;\">\n",
       "      <th></th>\n",
       "      <th>AON</th>\n",
       "      <th>AGE</th>\n",
       "      <th>NUMBER_OF_OS_BILLS</th>\n",
       "      <th>RECURRING_AMT</th>\n",
       "      <th>LAST_BILL_AMT</th>\n",
       "      <th>LAST_PAY_AMT</th>\n",
       "      <th>TOT_BILLED_OS_AMT</th>\n",
       "      <th>COMMIT_MONTH</th>\n",
       "      <th>LEFT_DAYS</th>\n",
       "      <th>FiveG_plan</th>\n",
       "      <th>...</th>\n",
       "      <th>jan_in_call_amt</th>\n",
       "      <th>jan_in_call_cnt</th>\n",
       "      <th>jan_out_call_amt</th>\n",
       "      <th>jan_out_call_cnt</th>\n",
       "      <th>jan_bill</th>\n",
       "      <th>CIVIL_ID_VOICE_IN_COMMITMENT_LINE_CNT</th>\n",
       "      <th>CIVIL_ID_VOICE_NOT_COMMITTED_LINE_CNT</th>\n",
       "      <th>CIVIL_ID_DATA_IN_COMMITMENT_LINE_CNT</th>\n",
       "      <th>CIVIL_ID_DATA_NOT_COMMITTED_LINE_CNT</th>\n",
       "      <th>churn</th>\n",
       "    </tr>\n",
       "  </thead>\n",
       "  <tbody>\n",
       "    <tr>\n",
       "      <th>0</th>\n",
       "      <td>1339.0</td>\n",
       "      <td>51.0</td>\n",
       "      <td>1.0</td>\n",
       "      <td>0.0</td>\n",
       "      <td>31.9</td>\n",
       "      <td>16.000</td>\n",
       "      <td>16.853</td>\n",
       "      <td>0.0</td>\n",
       "      <td>0.0</td>\n",
       "      <td>0.0</td>\n",
       "      <td>...</td>\n",
       "      <td>0.0</td>\n",
       "      <td>0.0</td>\n",
       "      <td>0.0</td>\n",
       "      <td>0.0</td>\n",
       "      <td>0.0</td>\n",
       "      <td>1.0</td>\n",
       "      <td>0.0</td>\n",
       "      <td>1.0</td>\n",
       "      <td>0.0</td>\n",
       "      <td>0.0</td>\n",
       "    </tr>\n",
       "    <tr>\n",
       "      <th>1</th>\n",
       "      <td>1443.0</td>\n",
       "      <td>32.0</td>\n",
       "      <td>1.0</td>\n",
       "      <td>0.0</td>\n",
       "      <td>8.0</td>\n",
       "      <td>6.000</td>\n",
       "      <td>6.000</td>\n",
       "      <td>13.0</td>\n",
       "      <td>290.0</td>\n",
       "      <td>0.0</td>\n",
       "      <td>...</td>\n",
       "      <td>0.0</td>\n",
       "      <td>0.0</td>\n",
       "      <td>0.0</td>\n",
       "      <td>0.0</td>\n",
       "      <td>6.0</td>\n",
       "      <td>0.0</td>\n",
       "      <td>0.0</td>\n",
       "      <td>1.0</td>\n",
       "      <td>0.0</td>\n",
       "      <td>0.0</td>\n",
       "    </tr>\n",
       "    <tr>\n",
       "      <th>2</th>\n",
       "      <td>1705.0</td>\n",
       "      <td>38.0</td>\n",
       "      <td>1.0</td>\n",
       "      <td>8.0</td>\n",
       "      <td>0.0</td>\n",
       "      <td>5.000</td>\n",
       "      <td>3.500</td>\n",
       "      <td>25.0</td>\n",
       "      <td>623.0</td>\n",
       "      <td>0.0</td>\n",
       "      <td>...</td>\n",
       "      <td>0.0</td>\n",
       "      <td>0.0</td>\n",
       "      <td>0.0</td>\n",
       "      <td>0.0</td>\n",
       "      <td>6.5</td>\n",
       "      <td>0.0</td>\n",
       "      <td>0.0</td>\n",
       "      <td>1.0</td>\n",
       "      <td>0.0</td>\n",
       "      <td>0.0</td>\n",
       "    </tr>\n",
       "    <tr>\n",
       "      <th>3</th>\n",
       "      <td>852.0</td>\n",
       "      <td>29.0</td>\n",
       "      <td>1.0</td>\n",
       "      <td>15.0</td>\n",
       "      <td>47.5</td>\n",
       "      <td>35.887</td>\n",
       "      <td>47.500</td>\n",
       "      <td>25.0</td>\n",
       "      <td>662.0</td>\n",
       "      <td>1.0</td>\n",
       "      <td>...</td>\n",
       "      <td>0.0</td>\n",
       "      <td>0.0</td>\n",
       "      <td>0.0</td>\n",
       "      <td>0.0</td>\n",
       "      <td>9.0</td>\n",
       "      <td>0.0</td>\n",
       "      <td>1.0</td>\n",
       "      <td>1.0</td>\n",
       "      <td>2.0</td>\n",
       "      <td>0.0</td>\n",
       "    </tr>\n",
       "    <tr>\n",
       "      <th>4</th>\n",
       "      <td>187.0</td>\n",
       "      <td>39.0</td>\n",
       "      <td>1.0</td>\n",
       "      <td>37.0</td>\n",
       "      <td>68.0</td>\n",
       "      <td>58.000</td>\n",
       "      <td>58.000</td>\n",
       "      <td>0.0</td>\n",
       "      <td>0.0</td>\n",
       "      <td>1.0</td>\n",
       "      <td>...</td>\n",
       "      <td>0.0</td>\n",
       "      <td>0.0</td>\n",
       "      <td>0.0</td>\n",
       "      <td>0.0</td>\n",
       "      <td>27.0</td>\n",
       "      <td>2.0</td>\n",
       "      <td>0.0</td>\n",
       "      <td>2.0</td>\n",
       "      <td>0.0</td>\n",
       "      <td>0.0</td>\n",
       "    </tr>\n",
       "    <tr>\n",
       "      <th>...</th>\n",
       "      <td>...</td>\n",
       "      <td>...</td>\n",
       "      <td>...</td>\n",
       "      <td>...</td>\n",
       "      <td>...</td>\n",
       "      <td>...</td>\n",
       "      <td>...</td>\n",
       "      <td>...</td>\n",
       "      <td>...</td>\n",
       "      <td>...</td>\n",
       "      <td>...</td>\n",
       "      <td>...</td>\n",
       "      <td>...</td>\n",
       "      <td>...</td>\n",
       "      <td>...</td>\n",
       "      <td>...</td>\n",
       "      <td>...</td>\n",
       "      <td>...</td>\n",
       "      <td>...</td>\n",
       "      <td>...</td>\n",
       "      <td>...</td>\n",
       "    </tr>\n",
       "    <tr>\n",
       "      <th>172197</th>\n",
       "      <td>1429.0</td>\n",
       "      <td>64.0</td>\n",
       "      <td>2.0</td>\n",
       "      <td>12.0</td>\n",
       "      <td>12.0</td>\n",
       "      <td>20.000</td>\n",
       "      <td>20.000</td>\n",
       "      <td>0.0</td>\n",
       "      <td>0.0</td>\n",
       "      <td>0.0</td>\n",
       "      <td>...</td>\n",
       "      <td>0.0</td>\n",
       "      <td>0.0</td>\n",
       "      <td>0.0</td>\n",
       "      <td>0.0</td>\n",
       "      <td>10.0</td>\n",
       "      <td>0.0</td>\n",
       "      <td>0.0</td>\n",
       "      <td>1.0</td>\n",
       "      <td>0.0</td>\n",
       "      <td>0.0</td>\n",
       "    </tr>\n",
       "    <tr>\n",
       "      <th>172198</th>\n",
       "      <td>1705.0</td>\n",
       "      <td>0.0</td>\n",
       "      <td>0.0</td>\n",
       "      <td>0.0</td>\n",
       "      <td>0.0</td>\n",
       "      <td>0.000</td>\n",
       "      <td>0.000</td>\n",
       "      <td>0.0</td>\n",
       "      <td>0.0</td>\n",
       "      <td>0.0</td>\n",
       "      <td>...</td>\n",
       "      <td>0.0</td>\n",
       "      <td>0.0</td>\n",
       "      <td>0.0</td>\n",
       "      <td>0.0</td>\n",
       "      <td>4.2</td>\n",
       "      <td>0.0</td>\n",
       "      <td>0.0</td>\n",
       "      <td>0.0</td>\n",
       "      <td>0.0</td>\n",
       "      <td>0.0</td>\n",
       "    </tr>\n",
       "    <tr>\n",
       "      <th>172199</th>\n",
       "      <td>279.0</td>\n",
       "      <td>34.0</td>\n",
       "      <td>1.0</td>\n",
       "      <td>0.0</td>\n",
       "      <td>12.0</td>\n",
       "      <td>24.000</td>\n",
       "      <td>12.000</td>\n",
       "      <td>0.0</td>\n",
       "      <td>0.0</td>\n",
       "      <td>0.0</td>\n",
       "      <td>...</td>\n",
       "      <td>0.0</td>\n",
       "      <td>0.0</td>\n",
       "      <td>0.0</td>\n",
       "      <td>0.0</td>\n",
       "      <td>12.0</td>\n",
       "      <td>1.0</td>\n",
       "      <td>0.0</td>\n",
       "      <td>0.0</td>\n",
       "      <td>1.0</td>\n",
       "      <td>0.0</td>\n",
       "    </tr>\n",
       "    <tr>\n",
       "      <th>172200</th>\n",
       "      <td>650.0</td>\n",
       "      <td>38.0</td>\n",
       "      <td>3.0</td>\n",
       "      <td>6.0</td>\n",
       "      <td>12.0</td>\n",
       "      <td>15.000</td>\n",
       "      <td>11.500</td>\n",
       "      <td>13.0</td>\n",
       "      <td>293.0</td>\n",
       "      <td>0.0</td>\n",
       "      <td>...</td>\n",
       "      <td>0.0</td>\n",
       "      <td>0.0</td>\n",
       "      <td>0.0</td>\n",
       "      <td>0.0</td>\n",
       "      <td>7.5</td>\n",
       "      <td>1.0</td>\n",
       "      <td>0.0</td>\n",
       "      <td>2.0</td>\n",
       "      <td>0.0</td>\n",
       "      <td>0.0</td>\n",
       "    </tr>\n",
       "    <tr>\n",
       "      <th>172201</th>\n",
       "      <td>678.0</td>\n",
       "      <td>56.0</td>\n",
       "      <td>1.0</td>\n",
       "      <td>6.0</td>\n",
       "      <td>12.0</td>\n",
       "      <td>18.000</td>\n",
       "      <td>9.000</td>\n",
       "      <td>0.0</td>\n",
       "      <td>0.0</td>\n",
       "      <td>0.0</td>\n",
       "      <td>...</td>\n",
       "      <td>0.0</td>\n",
       "      <td>0.0</td>\n",
       "      <td>0.0</td>\n",
       "      <td>0.0</td>\n",
       "      <td>9.0</td>\n",
       "      <td>0.0</td>\n",
       "      <td>0.0</td>\n",
       "      <td>1.0</td>\n",
       "      <td>0.0</td>\n",
       "      <td>0.0</td>\n",
       "    </tr>\n",
       "  </tbody>\n",
       "</table>\n",
       "<p>172202 rows × 26 columns</p>\n",
       "</div>"
      ],
      "text/plain": [
       "           AON   AGE  NUMBER_OF_OS_BILLS  RECURRING_AMT  LAST_BILL_AMT  \\\n",
       "0       1339.0  51.0                 1.0            0.0           31.9   \n",
       "1       1443.0  32.0                 1.0            0.0            8.0   \n",
       "2       1705.0  38.0                 1.0            8.0            0.0   \n",
       "3        852.0  29.0                 1.0           15.0           47.5   \n",
       "4        187.0  39.0                 1.0           37.0           68.0   \n",
       "...        ...   ...                 ...            ...            ...   \n",
       "172197  1429.0  64.0                 2.0           12.0           12.0   \n",
       "172198  1705.0   0.0                 0.0            0.0            0.0   \n",
       "172199   279.0  34.0                 1.0            0.0           12.0   \n",
       "172200   650.0  38.0                 3.0            6.0           12.0   \n",
       "172201   678.0  56.0                 1.0            6.0           12.0   \n",
       "\n",
       "        LAST_PAY_AMT  TOT_BILLED_OS_AMT  COMMIT_MONTH  LEFT_DAYS  FiveG_plan  \\\n",
       "0             16.000             16.853           0.0        0.0         0.0   \n",
       "1              6.000              6.000          13.0      290.0         0.0   \n",
       "2              5.000              3.500          25.0      623.0         0.0   \n",
       "3             35.887             47.500          25.0      662.0         1.0   \n",
       "4             58.000             58.000           0.0        0.0         1.0   \n",
       "...              ...                ...           ...        ...         ...   \n",
       "172197        20.000             20.000           0.0        0.0         0.0   \n",
       "172198         0.000              0.000           0.0        0.0         0.0   \n",
       "172199        24.000             12.000           0.0        0.0         0.0   \n",
       "172200        15.000             11.500          13.0      293.0         0.0   \n",
       "172201        18.000              9.000           0.0        0.0         0.0   \n",
       "\n",
       "        ...  jan_in_call_amt  jan_in_call_cnt  jan_out_call_amt  \\\n",
       "0       ...              0.0              0.0               0.0   \n",
       "1       ...              0.0              0.0               0.0   \n",
       "2       ...              0.0              0.0               0.0   \n",
       "3       ...              0.0              0.0               0.0   \n",
       "4       ...              0.0              0.0               0.0   \n",
       "...     ...              ...              ...               ...   \n",
       "172197  ...              0.0              0.0               0.0   \n",
       "172198  ...              0.0              0.0               0.0   \n",
       "172199  ...              0.0              0.0               0.0   \n",
       "172200  ...              0.0              0.0               0.0   \n",
       "172201  ...              0.0              0.0               0.0   \n",
       "\n",
       "        jan_out_call_cnt  jan_bill  CIVIL_ID_VOICE_IN_COMMITMENT_LINE_CNT  \\\n",
       "0                    0.0       0.0                                    1.0   \n",
       "1                    0.0       6.0                                    0.0   \n",
       "2                    0.0       6.5                                    0.0   \n",
       "3                    0.0       9.0                                    0.0   \n",
       "4                    0.0      27.0                                    2.0   \n",
       "...                  ...       ...                                    ...   \n",
       "172197               0.0      10.0                                    0.0   \n",
       "172198               0.0       4.2                                    0.0   \n",
       "172199               0.0      12.0                                    1.0   \n",
       "172200               0.0       7.5                                    1.0   \n",
       "172201               0.0       9.0                                    0.0   \n",
       "\n",
       "        CIVIL_ID_VOICE_NOT_COMMITTED_LINE_CNT  \\\n",
       "0                                         0.0   \n",
       "1                                         0.0   \n",
       "2                                         0.0   \n",
       "3                                         1.0   \n",
       "4                                         0.0   \n",
       "...                                       ...   \n",
       "172197                                    0.0   \n",
       "172198                                    0.0   \n",
       "172199                                    0.0   \n",
       "172200                                    0.0   \n",
       "172201                                    0.0   \n",
       "\n",
       "        CIVIL_ID_DATA_IN_COMMITMENT_LINE_CNT  \\\n",
       "0                                        1.0   \n",
       "1                                        1.0   \n",
       "2                                        1.0   \n",
       "3                                        1.0   \n",
       "4                                        2.0   \n",
       "...                                      ...   \n",
       "172197                                   1.0   \n",
       "172198                                   0.0   \n",
       "172199                                   0.0   \n",
       "172200                                   2.0   \n",
       "172201                                   1.0   \n",
       "\n",
       "        CIVIL_ID_DATA_NOT_COMMITTED_LINE_CNT  churn  \n",
       "0                                        0.0    0.0  \n",
       "1                                        0.0    0.0  \n",
       "2                                        0.0    0.0  \n",
       "3                                        2.0    0.0  \n",
       "4                                        0.0    0.0  \n",
       "...                                      ...    ...  \n",
       "172197                                   0.0    0.0  \n",
       "172198                                   0.0    0.0  \n",
       "172199                                   1.0    0.0  \n",
       "172200                                   0.0    0.0  \n",
       "172201                                   0.0    0.0  \n",
       "\n",
       "[172202 rows x 26 columns]"
      ]
     },
     "execution_count": 43,
     "metadata": {},
     "output_type": "execute_result"
    }
   ],
   "source": [
    "num_data"
   ]
  },
  {
   "cell_type": "code",
   "execution_count": 44,
   "metadata": {},
   "outputs": [
    {
     "data": {
      "text/plain": [
       "<matplotlib.axes._subplots.AxesSubplot at 0x19f045712c8>"
      ]
     },
     "execution_count": 44,
     "metadata": {},
     "output_type": "execute_result"
    },
    {
     "data": {
      "image/png": "[encoded data removed]",
      "text/plain": [
       "<Figure size 432x288 with 1 Axes>"
      ]
     },
     "metadata": {
      "needs_background": "light"
     },
     "output_type": "display_data"
    }
   ],
   "source": [
    "post_ls = pd.concat([num_data,object_data],axis=1)\n",
    "sns.heatmap(post_ls.isnull(), cbar=False)"
   ]
  },
  {
   "cell_type": "code",
   "execution_count": 45,
   "metadata": {},
   "outputs": [
    {
     "data": {
      "text/plain": [
       "AON                                      0\n",
       "AGE                                      0\n",
       "NUMBER_OF_OS_BILLS                       0\n",
       "RECURRING_AMT                            0\n",
       "LAST_BILL_AMT                            0\n",
       "LAST_PAY_AMT                             0\n",
       "TOT_BILLED_OS_AMT                        0\n",
       "COMMIT_MONTH                             0\n",
       "LEFT_DAYS                                0\n",
       "FiveG_plan                               0\n",
       "LEFT_MONTHS                              0\n",
       "jan_package                              0\n",
       "jan_offer_price                          0\n",
       "GTL_FACTOR                               0\n",
       "jan_revenue                              0\n",
       "jan_data_usage                           0\n",
       "jan_in_call_amt                          0\n",
       "jan_in_call_cnt                          0\n",
       "jan_out_call_amt                         0\n",
       "jan_out_call_cnt                         0\n",
       "jan_bill                                 0\n",
       "CIVIL_ID_VOICE_IN_COMMITMENT_LINE_CNT    0\n",
       "CIVIL_ID_VOICE_NOT_COMMITTED_LINE_CNT    0\n",
       "CIVIL_ID_DATA_IN_COMMITMENT_LINE_CNT     0\n",
       "CIVIL_ID_DATA_NOT_COMMITTED_LINE_CNT     0\n",
       "churn                                    0\n",
       "value_base_seg_1 WBB H                   0\n",
       "value_base_seg_2 WBB M                   0\n",
       "value_base_seg_3 WBB L                   0\n",
       "value_base_seg_7.Internal Test           0\n",
       "value_base_seg_?                         0\n",
       "value_base_seg_nan                       0\n",
       "BARRING_STATUS_?                         0\n",
       "BARRING_STATUS_BARRED                    0\n",
       "BARRING_STATUS_NOT BARRED                0\n",
       "BARRING_STATUS_nan                       0\n",
       "ACTIVATION_CHANNEL_TYPE_?                0\n",
       "ACTIVATION_CHANNEL_TYPE_nan              0\n",
       "Contarct_status_?                        0\n",
       "Contarct_status_COMMITED                 0\n",
       "Contarct_status_NON_COMMITED             0\n",
       "Contarct_status_nan                      0\n",
       "sim_device_commit_device                 0\n",
       "sim_device_commit_sim                    0\n",
       "sim_device_commit_nan                    0\n",
       "A_freeze_status_?                        0\n",
       "A_freeze_status_A                        0\n",
       "A_freeze_status_nan                      0\n",
       "D_freeze_status_?                        0\n",
       "D_freeze_status_D                        0\n",
       "D_freeze_status_nan                      0\n",
       "TOP_LOC_5G_?                             0\n",
       "TOP_LOC_5G_N                             0\n",
       "TOP_LOC_5G_Y                             0\n",
       "TOP_LOC_5G_nan                           0\n",
       "congested_flag_?                         0\n",
       "congested_flag_N                         0\n",
       "congested_flag_Y                         0\n",
       "congested_flag_nan                       0\n",
       "dtype: int64"
      ]
     },
     "execution_count": 45,
     "metadata": {},
     "output_type": "execute_result"
    }
   ],
   "source": [
    "post_ls.isnull().sum()"
   ]
  },
  {
   "cell_type": "code",
   "execution_count": 46,
   "metadata": {},
   "outputs": [
    {
     "data": {
      "text/plain": [
       "<matplotlib.axes._subplots.AxesSubplot at 0x19f59e15d88>"
      ]
     },
     "execution_count": 46,
     "metadata": {},
     "output_type": "execute_result"
    },
    {
     "data": {
      "image/png": "[encoded data removed]",
      "text/plain": [
       "<Figure size 432x288 with 1 Axes>"
      ]
     },
     "metadata": {
      "needs_background": "light"
     },
     "output_type": "display_data"
    }
   ],
   "source": [
    "sns.countplot(post_ls.churn)"
   ]
  },
  {
   "cell_type": "code",
   "execution_count": 47,
   "metadata": {},
   "outputs": [
    {
     "data": {
      "image/png": "[encoded data removed]",
      "text/plain": [
       "<Figure size 576x288 with 1 Axes>"
      ]
     },
     "metadata": {
      "needs_background": "light"
     },
     "output_type": "display_data"
    }
   ],
   "source": [
    "PQ = post_ls['churn'].value_counts().sort_index()\n",
    "\n",
    "plt.figure(figsize=(8,4))\n",
    "ax=PQ.plot.bar(width=.9) \n",
    "#ax = sns.countplot(x=\"class\", data=data)\n",
    "plt.xticks(rotation=0)\n",
    "for i, v in PQ.reset_index().iterrows():\n",
    "    ax.text(i, v.churn + 0.2 , v.churn, color='black')"
   ]
  },
  {
   "cell_type": "code",
   "execution_count": 48,
   "metadata": {},
   "outputs": [
    {
     "data": {
      "text/plain": [
       "0.0    165779\n",
       "1.0      6423\n",
       "Name: churn, dtype: int64"
      ]
     },
     "execution_count": 48,
     "metadata": {},
     "output_type": "execute_result"
    }
   ],
   "source": [
    "post_ls.churn.value_counts()"
   ]
  },
  {
   "cell_type": "code",
   "execution_count": 49,
   "metadata": {},
   "outputs": [
    {
     "name": "stdout",
     "output_type": "stream",
     "text": [
      "AON\n",
      "AGE\n",
      "NUMBER_OF_OS_BILLS\n",
      "RECURRING_AMT\n",
      "LAST_BILL_AMT\n",
      "LAST_PAY_AMT\n",
      "TOT_BILLED_OS_AMT\n",
      "COMMIT_MONTH\n",
      "LEFT_DAYS\n",
      "FiveG_plan\n",
      "LEFT_MONTHS\n",
      "jan_package\n",
      "jan_offer_price\n",
      "GTL_FACTOR\n",
      "jan_revenue\n",
      "jan_data_usage\n",
      "jan_in_call_amt\n",
      "jan_in_call_cnt\n",
      "jan_out_call_amt\n",
      "jan_out_call_cnt\n",
      "jan_bill\n",
      "CIVIL_ID_VOICE_IN_COMMITMENT_LINE_CNT\n",
      "CIVIL_ID_VOICE_NOT_COMMITTED_LINE_CNT\n",
      "CIVIL_ID_DATA_IN_COMMITMENT_LINE_CNT\n",
      "CIVIL_ID_DATA_NOT_COMMITTED_LINE_CNT\n",
      "churn\n",
      "value_base_seg_1 WBB H\n",
      "value_base_seg_2 WBB M\n",
      "value_base_seg_3 WBB L\n",
      "value_base_seg_7.Internal Test\n",
      "value_base_seg_?\n",
      "value_base_seg_nan\n",
      "BARRING_STATUS_?\n",
      "BARRING_STATUS_BARRED\n",
      "BARRING_STATUS_NOT BARRED\n",
      "BARRING_STATUS_nan\n",
      "ACTIVATION_CHANNEL_TYPE_?\n",
      "ACTIVATION_CHANNEL_TYPE_nan\n",
      "Contarct_status_?\n",
      "Contarct_status_COMMITED\n",
      "Contarct_status_NON_COMMITED\n",
      "Contarct_status_nan\n",
      "sim_device_commit_device\n",
      "sim_device_commit_sim\n",
      "sim_device_commit_nan\n",
      "A_freeze_status_?\n",
      "A_freeze_status_A\n",
      "A_freeze_status_nan\n",
      "D_freeze_status_?\n",
      "D_freeze_status_D\n",
      "D_freeze_status_nan\n",
      "TOP_LOC_5G_?\n",
      "TOP_LOC_5G_N\n",
      "TOP_LOC_5G_Y\n",
      "TOP_LOC_5G_nan\n",
      "congested_flag_?\n",
      "congested_flag_N\n",
      "congested_flag_Y\n",
      "congested_flag_nan\n"
     ]
    }
   ],
   "source": [
    "for col in post_ls.columns: \n",
    "    print(col)"
   ]
  },
  {
   "cell_type": "code",
   "execution_count": 50,
   "metadata": {},
   "outputs": [
    {
     "data": {
      "text/plain": [
       "<matplotlib.axes._subplots.AxesSubplot at 0x19f00490f08>"
      ]
     },
     "execution_count": 50,
     "metadata": {},
     "output_type": "execute_result"
    },
    {
     "data": {
      "image/png": "[encoded data removed]",
      "text/plain": [
       "<Figure size 432x288 with 1 Axes>"
      ]
     },
     "metadata": {
      "needs_background": "light"
     },
     "output_type": "display_data"
    }
   ],
   "source": [
    "cols=['jan_revenue','TOT_BILLED_OS_AMT',     \n",
    "'COMMIT_MONTH',        \n",
    "'LEFT_DAYS']\n",
    "sns.boxplot(data=post_ls[cols],showfliers=False)"
   ]
  },
  {
   "cell_type": "code",
   "execution_count": 51,
   "metadata": {},
   "outputs": [
    {
     "data": {
      "text/plain": [
       "<matplotlib.axes._subplots.AxesSubplot at 0x19f006ef548>"
      ]
     },
     "execution_count": 51,
     "metadata": {},
     "output_type": "execute_result"
    },
    {
     "data": {
      "image/png": "[encoded data removed]",
      "text/plain": [
       "<Figure size 432x288 with 1 Axes>"
      ]
     },
     "metadata": {
      "needs_background": "light"
     },
     "output_type": "display_data"
    }
   ],
   "source": [
    "cols=['AON','AGE']\n",
    "sns.boxplot(data=post_ls[cols],showfliers=False)"
   ]
  },
  {
   "cell_type": "code",
   "execution_count": 52,
   "metadata": {},
   "outputs": [
    {
     "data": {
      "text/plain": [
       "<matplotlib.axes._subplots.AxesSubplot at 0x19f58b9c4c8>"
      ]
     },
     "execution_count": 52,
     "metadata": {},
     "output_type": "execute_result"
    },
    {
     "data": {
      "image/png": "[encoded data removed]",
      "text/plain": [
       "<Figure size 432x288 with 1 Axes>"
      ]
     },
     "metadata": {
      "needs_background": "light"
     },
     "output_type": "display_data"
    }
   ],
   "source": [
    "cols=['LAST_PAY_AMT','jan_package','jan_offer_price',       \n",
    "        \n",
    "'jan_data_usage']\n",
    "sns.boxplot(data=post_ls[cols],showfliers=False)"
   ]
  },
  {
   "cell_type": "code",
   "execution_count": 53,
   "metadata": {},
   "outputs": [
    {
     "data": {
      "text/plain": [
       "churn                                    1.000000\n",
       "CIVIL_ID_DATA_NOT_COMMITTED_LINE_CNT     0.075623\n",
       "CIVIL_ID_VOICE_NOT_COMMITTED_LINE_CNT    0.036467\n",
       "RECURRING_AMT                            0.036331\n",
       "CIVIL_ID_DATA_IN_COMMITMENT_LINE_CNT     0.036150\n",
       "jan_out_call_amt                         0.031954\n",
       "LAST_PAY_AMT                             0.021828\n",
       "AON                                      0.016789\n",
       "LAST_BILL_AMT                            0.016406\n",
       "jan_out_call_cnt                         0.014473\n",
       "CIVIL_ID_VOICE_IN_COMMITMENT_LINE_CNT    0.014132\n",
       "TOT_BILLED_OS_AMT                        0.013655\n",
       "jan_data_usage                           0.013509\n",
       "NUMBER_OF_OS_BILLS                       0.009555\n",
       "jan_offer_price                          0.005826\n",
       "FiveG_plan                               0.005111\n",
       "jan_revenue                              0.005040\n",
       "jan_bill                                 0.003865\n",
       "GTL_FACTOR                               0.003811\n",
       "AGE                                      0.001930\n",
       "COMMIT_MONTH                             0.001754\n",
       "LEFT_MONTHS                              0.001483\n",
       "LEFT_DAYS                                0.000786\n",
       "jan_package                              0.000684\n",
       "jan_in_call_amt                          0.000306\n",
       "jan_in_call_cnt                          0.000125\n",
       "Name: churn, dtype: float64"
      ]
     },
     "execution_count": 53,
     "metadata": {},
     "output_type": "execute_result"
    }
   ],
   "source": [
    "rr = post_ls.select_dtypes(include='float64').corr()\n",
    "sorted_corrs = rr['churn'].abs().sort_values(ascending = False)\n",
    "sorted_corrs"
   ]
  },
  {
   "cell_type": "code",
   "execution_count": 54,
   "metadata": {},
   "outputs": [],
   "source": [
    "X = post_ls.drop(['churn'],axis=1)\n",
    "y = post_ls.churn"
   ]
  },
  {
   "cell_type": "code",
   "execution_count": 55,
   "metadata": {},
   "outputs": [],
   "source": [
    "A=X\n",
    "B=y"
   ]
  },
  {
   "cell_type": "code",
   "execution_count": 56,
   "metadata": {},
   "outputs": [],
   "source": [
    "from sklearn.preprocessing import StandardScaler\n",
    "scaler = StandardScaler()\n",
    "X = scaler.fit_transform(X)"
   ]
  },
  {
   "cell_type": "code",
   "execution_count": 57,
   "metadata": {},
   "outputs": [],
   "source": [
    "from sklearn.model_selection import StratifiedKFold\n",
    "skfolds = StratifiedKFold(n_splits=20,random_state=100,shuffle=True)"
   ]
  },
  {
   "cell_type": "code",
   "execution_count": 58,
   "metadata": {},
   "outputs": [],
   "source": [
    "from sklearn.ensemble import RandomForestClassifier\n",
    "rf = RandomForestClassifier(n_estimators=500,min_samples_split = 30,min_samples_leaf=10,max_features='sqrt',\n",
    "                                max_depth=10,bootstrap=True,random_state=100)"
   ]
  },
  {
   "cell_type": "code",
   "execution_count": 59,
   "metadata": {},
   "outputs": [
    {
     "name": "stdout",
     "output_type": "stream",
     "text": [
      "Cross Validation Scores are: [0.77207614 0.76781846 0.78503583 0.78890783 0.77358331 0.7602477\n",
      " 0.79488392 0.79386749 0.75526229 0.76004306 0.80206098 0.78760501\n",
      " 0.75359003 0.79065789 0.76645041 0.78117623 0.79743488 0.77046692\n",
      " 0.75342617 0.77159824]\n",
      "Cross Validation Score Averages are: 0.7763096400042315\n"
     ]
    }
   ],
   "source": [
    "from sklearn.model_selection import cross_val_score\n",
    "scores = cross_val_score(rf,X,y,cv=skfolds,scoring='roc_auc')\n",
    "print('Cross Validation Scores are: {}'.format(scores))\n",
    "print('Cross Validation Score Averages are: {}'.format(scores.mean()))"
   ]
  },
  {
   "cell_type": "code",
   "execution_count": 60,
   "metadata": {},
   "outputs": [],
   "source": [
    "from sklearn.model_selection import cross_val_predict\n",
    "y_pred = cross_val_predict(rf,X,y,cv=skfolds)"
   ]
  },
  {
   "cell_type": "code",
   "execution_count": 61,
   "metadata": {},
   "outputs": [
    {
     "data": {
      "text/plain": [
       "array([[165779,      0],\n",
       "       [  6341,     82]], dtype=int64)"
      ]
     },
     "execution_count": 61,
     "metadata": {},
     "output_type": "execute_result"
    }
   ],
   "source": [
    "from sklearn.metrics import confusion_matrix\n",
    "confusion_matrix(y,y_pred)"
   ]
  },
  {
   "cell_type": "code",
   "execution_count": 62,
   "metadata": {},
   "outputs": [
    {
     "name": "stdout",
     "output_type": "stream",
     "text": [
      "Precision : 1.0\n",
      "Recall : 0.012766619959520473\n"
     ]
    }
   ],
   "source": [
    "from sklearn.metrics import precision_score,recall_score\n",
    "print(\"Precision :\",precision_score(y,y_pred))\n",
    "print('Recall :',recall_score(y,y_pred))"
   ]
  },
  {
   "cell_type": "code",
   "execution_count": 63,
   "metadata": {},
   "outputs": [],
   "source": [
    "from sklearn.utils import resample\n",
    "\n",
    "churn_majority = post_ls[post_ls.churn==0]\n",
    "churn_minority = post_ls[post_ls.churn==1]\n",
    "\n",
    "upsampled = resample(churn_minority,replace=True,n_samples=len(churn_majority),random_state=123)\n",
    "\n",
    "post_ls_upsampled = pd.concat([churn_majority,upsampled]).reset_index(drop=True)"
   ]
  },
  {
   "cell_type": "code",
   "execution_count": 64,
   "metadata": {},
   "outputs": [
    {
     "data": {
      "text/plain": [
       "(331558, 59)"
      ]
     },
     "execution_count": 64,
     "metadata": {},
     "output_type": "execute_result"
    }
   ],
   "source": [
    "post_ls_upsampled.shape"
   ]
  },
  {
   "cell_type": "code",
   "execution_count": 65,
   "metadata": {},
   "outputs": [],
   "source": [
    "np.random.seed(1)\n",
    "post_ls_upsampled = post_ls_upsampled.reindex(np.random.permutation(post_ls_upsampled.index))"
   ]
  },
  {
   "cell_type": "code",
   "execution_count": 66,
   "metadata": {},
   "outputs": [],
   "source": [
    "X = post_ls_upsampled.drop(['churn'],axis=1)\n",
    "y = post_ls_upsampled.churn"
   ]
  },
  {
   "cell_type": "code",
   "execution_count": 67,
   "metadata": {},
   "outputs": [
    {
     "name": "stdout",
     "output_type": "stream",
     "text": [
      "x_train shape : (165779, 58)\n",
      "y_train shape : (165779,)\n"
     ]
    },
    {
     "data": {
      "text/plain": [
       "0.0    83197\n",
       "1.0    82582\n",
       "Name: churn, dtype: int64"
      ]
     },
     "execution_count": 67,
     "metadata": {},
     "output_type": "execute_result"
    }
   ],
   "source": [
    "X_train = X.iloc[:round(len(X)/2)].copy()\n",
    "y_train = y.iloc[:round(len(X)/2)].copy()\n",
    "print(\"x_train shape :\",X_train.shape)\n",
    "print(\"y_train shape :\",y_train.shape)\n",
    "y_train.value_counts()"
   ]
  },
  {
   "cell_type": "code",
   "execution_count": 68,
   "metadata": {},
   "outputs": [
    {
     "name": "stdout",
     "output_type": "stream",
     "text": [
      "x_test shape : (82889, 58)\n",
      "y_test shape : (82889,)\n"
     ]
    },
    {
     "data": {
      "text/plain": [
       "1.0    41609\n",
       "0.0    41280\n",
       "Name: churn, dtype: int64"
      ]
     },
     "execution_count": 68,
     "metadata": {},
     "output_type": "execute_result"
    }
   ],
   "source": [
    "X_test = X.iloc[round(len(X)/2):round(len(X)*(3/4))].copy()\n",
    "y_test = y.iloc[round(len(X)/2):round(len(X)*(3/4))].copy()\n",
    "print(\"x_test shape :\",X_test.shape)\n",
    "print(\"y_test shape :\",y_test.shape)\n",
    "y_test.value_counts()"
   ]
  },
  {
   "cell_type": "code",
   "execution_count": 69,
   "metadata": {},
   "outputs": [
    {
     "name": "stdout",
     "output_type": "stream",
     "text": [
      "x_valid shape : (82890, 58)\n",
      "y_valid shape : (82890,)\n"
     ]
    },
    {
     "data": {
      "text/plain": [
       "1.0    41588\n",
       "0.0    41302\n",
       "Name: churn, dtype: int64"
      ]
     },
     "execution_count": 69,
     "metadata": {},
     "output_type": "execute_result"
    }
   ],
   "source": [
    "X_val = X.iloc[round(len(X)*(3/4)):].copy()\n",
    "y_val = y.iloc[round(len(X)*(3/4)):].copy()\n",
    "print(\"x_valid shape :\",X_val.shape)\n",
    "print(\"y_valid shape :\",y_val.shape)\n",
    "y_val.value_counts()"
   ]
  },
  {
   "cell_type": "code",
   "execution_count": 70,
   "metadata": {},
   "outputs": [],
   "source": [
    "from sklearn.linear_model import LogisticRegression\n",
    "from sklearn.ensemble import RandomForestClassifier\n",
    "from sklearn.linear_model import SGDClassifier \n",
    "from sklearn.svm import SVC\n",
    "\n",
    "\n",
    "\n",
    "\n",
    "import warnings\n",
    "from sklearn.tree import DecisionTreeClassifier\n",
    "from sklearn.linear_model import LogisticRegression\n",
    "from sklearn.ensemble import RandomForestClassifier\n",
    "from sklearn.linear_model import SGDClassifier \n",
    "from sklearn.svm import SVC\n",
    "from sklearn.neighbors import KNeighborsClassifier\n",
    "from sklearn.naive_bayes import GaussianNB\n",
    "from sklearn import preprocessing\n",
    "\n",
    "from sklearn import ensemble\n",
    "from sklearn import metrics\n",
    "from sklearn.metrics import classification_report,recall_score,accuracy_score,precision_score\n",
    "from sklearn.model_selection import train_test_split"
   ]
  },
  {
   "cell_type": "code",
   "execution_count": null,
   "metadata": {},
   "outputs": [],
   "source": [
    "seed=42\n",
    "\n",
    "#rf=RandomForestClassifier(random_state=seed,n_estimators=80,class_weight={1:4},min_samples_leaf=10,max_depth=10,max_features=5,bootstrap=True)       \n",
    "#dt=DecisionTreeClassifier(random_state=seed,class_weight={1:4},min_samples_leaf=8,max_depth=3)\n",
    "rf = RandomForestClassifier(n_estimators=300,min_samples_split = 30,min_samples_leaf=20,max_features='sqrt',\n",
    "                                max_depth=35,bootstrap=True,random_state=100)\n",
    "dt=DecisionTreeClassifier(min_samples_split = 20,min_samples_leaf=20,max_features='sqrt',\n",
    "                                max_depth=45,random_state=100)\n",
    "\n",
    "#n_estimators=500,min_samples_split = 30,min_samples_leaf=10,max_features='sqrt',\n",
    " #                               max_depth=10,bootstrap=True,random_state=100)\n",
    "#lr=LogisticRegression(random_state=seed)\n",
    "lr=LogisticRegression(class_weight={1:2}, random_state=seed)\n",
    "sgd = SGDClassifier()\n",
    "#svc=SVC(random_state=seed)\n",
    "\n",
    "gbc=ensemble.GradientBoostingClassifier()\n",
    "\n",
    "#rf=RandomForestClassifier(random_state=seed)\n",
    "lr=LogisticRegression(random_state=seed)\n",
    "#dt=DecisionTreeClassifier(random_state=seed)\n",
    "sgd = SGDClassifier()\n",
    "#svc=SVC(random_state=seed)\n",
    "\n",
    "#create a list of models\n",
    "models=[rf,lr,dt]\n",
    "\n",
    "def score_model(X_train,y_train,X_test,Y_test,X_val,y_val):\n",
    "    df_columns=[]\n",
    "    df=pd.DataFrame(columns=df_columns)\n",
    "    i=0\n",
    "    #read model one by one\n",
    "    for model in models:\n",
    "        model.fit(X_train,y_train)\n",
    "        y_pred = model.predict(X_test)\n",
    "        y_val_pred=model.predict(X_val)\n",
    "        \n",
    "        #compute metrics\n",
    "        train_accuracy=model.score(X_train,y_train)\n",
    "        test_accuracy=model.score(X_test,y_test)\n",
    "        valid_accuracy = model.score(X_val,y_val)\n",
    "        \n",
    "        p_score=metrics.precision_score(y_test,y_pred)\n",
    "        p_val_score=metrics.precision_score(y_val,y_val_pred)\n",
    "        r_score=metrics.recall_score(y_test,y_pred)\n",
    "        r_val_score=metrics.precision_score(y_val,y_val_pred)\n",
    "        f1_score=metrics.f1_score(y_test,y_pred)\n",
    "        f1_val_score=metrics.f1_score(y_val,y_val_pred)\n",
    "        fp, tp, th = metrics.roc_curve(y_test, y_pred)\n",
    "        fpv, tpv, thv = metrics.roc_curve(y_val,y_val_pred)\n",
    "        \n",
    "        #insert in dataframe\n",
    "        df.loc[i,\"Model_Name\"]=model.__class__.__name__\n",
    "        df.loc[i,\"Precision\"]=round(p_score,2)\n",
    "        df.loc[i,\"Recall\"]=round(r_score,2)\n",
    "        df.loc[i,\"Train_Accuracy\"]=round(train_accuracy,2)\n",
    "        df.loc[i,\"Test_Accuracy\"]=round(test_accuracy,2)\n",
    "        df.loc[i,\"Validation_Accuracy\"]=round(valid_accuracy,2)\n",
    "        df.loc[i,\"F1_Score\"]=round(f1_score,2)\n",
    "        df.loc[i,'AUC'] = metrics.auc(fp, tp)\n",
    "        \n",
    "     \n",
    "    \n",
    "        i+=1\n",
    "    \n",
    "    #sort values by accuracy\n",
    "    df.sort_values(by=['F1_Score'],ascending=False,inplace=True)\n",
    "    return(df)"
   ]
  },
  {
   "cell_type": "code",
   "execution_count": null,
   "metadata": {},
   "outputs": [],
   "source": [
    "score_model(X_train,y_train,X_test,y_test,X_val,y_val)"
   ]
  },
  {
   "cell_type": "code",
   "execution_count": null,
   "metadata": {},
   "outputs": [],
   "source": [
    "from sklearn.ensemble import GradientBoostingClassifier  #GBM algorithm\n",
    "  #Additional scklearn functions\n",
    " #Perforing grid search"
   ]
  },
  {
   "cell_type": "code",
   "execution_count": null,
   "metadata": {},
   "outputs": [],
   "source": [
    "seed=42\n",
    "\n",
    "rf=RandomForestClassifier(random_state=seed)\n",
    "#lr=LogisticRegression(random_state=seed)\n",
    "lr=LogisticRegression(penalty='l2', dual=True, tol=0.0001, \n",
    "                           C=1, fit_intercept=True, intercept_scaling=1.0, \n",
    "                           class_weight=None, random_state=seed)\n",
    "sgd = SGDClassifier(loss=\"hinge\", penalty=\"l2\", max_iter=5)\n",
    "svc=SVC(random_state=seed)\n",
    "\n",
    "\n",
    "gbc=GradientBoostingClassifier(learning_rate=0.1, min_samples_split=500,min_samples_leaf=50,max_depth=15,max_features='sqrt',subsample=0.8,random_state=10)\n",
    "\n",
    "#xgb = XGBClassifier(\n",
    " #learning_rate =0.1,\n",
    " #n_estimators=1000,\n",
    " #max_depth=5,\n",
    " #min_child_weight=1,\n",
    " #gamma=0,\n",
    " #subsample=0.8,\n",
    " #colsample_bytree=0.8,\n",
    " #objective= 'binary:logistic',\n",
    " #nthread=4,\n",
    " #scale_pos_weight=1,\n",
    " #seed=27)\n",
    "\n",
    "\n",
    "#create a list of models\n",
    "models=[sgd,gbc,svc]\n",
    "\n",
    "def score_model(X_train,y_train,X_test,Y_test,X_val,y_val):\n",
    "    df_columns=[]\n",
    "    df=pd.DataFrame(columns=df_columns)\n",
    "    i=0\n",
    "    #read model one by one\n",
    "    for model in models:\n",
    "        model.fit(X_train,y_train)\n",
    "        y_pred = model.predict(X_test)\n",
    "        y_val_pred=model.predict(X_val)\n",
    "        \n",
    "        #compute metrics\n",
    "        train_accuracy=model.score(X_train,y_train)\n",
    "        test_accuracy=model.score(X_test,y_test)\n",
    "        valid_accuracy = model.score(X_val,y_val)\n",
    "        \n",
    "        p_score=metrics.precision_score(y_test,y_pred)\n",
    "        p_val_score=metrics.precision_score(y_val,y_val_pred)\n",
    "        r_score=metrics.recall_score(y_test,y_pred)\n",
    "        r_val_score=metrics.precision_score(y_val,y_val_pred)\n",
    "        f1_score=metrics.f1_score(y_test,y_pred)\n",
    "        f1_val_score=metrics.f1_score(y_val,y_val_pred)\n",
    "        fp, tp, th = metrics.roc_curve(y_test, y_pred)\n",
    "        fpv, tpv, thv = metrics.roc_curve(y_val,y_val_pred)\n",
    "        \n",
    "        #insert in dataframe\n",
    "        df.loc[i,\"Model_Name\"]=model.__class__.__name__\n",
    "        df.loc[i,\"Precision\"]=round(p_score,2)\n",
    "        df.loc[i,\"Recall\"]=round(r_score,2)\n",
    "        df.loc[i,\"Train_Accuracy\"]=round(train_accuracy,2)\n",
    "        df.loc[i,\"Test_Accuracy\"]=round(test_accuracy,2)\n",
    "        df.loc[i,\"Validation_Accuracy\"]=round(valid_accuracy,2)\n",
    "        df.loc[i,\"F1_Score\"]=round(f1_score,2)\n",
    "        df.loc[i,'AUC'] = metrics.auc(fp, tp)\n",
    "        \n",
    "     \n",
    "    \n",
    "        i+=1\n",
    "    \n",
    "    #sort values by accuracy\n",
    "    df.sort_values(by=['F1_Score'],ascending=False,inplace=True)\n",
    "    return(df)"
   ]
  },
  {
   "cell_type": "code",
   "execution_count": null,
   "metadata": {},
   "outputs": [],
   "source": [
    "score_model(X_train,y_train,X_test,y_test,X_val,y_val)"
   ]
  },
  {
   "cell_type": "code",
   "execution_count": 76,
   "metadata": {},
   "outputs": [],
   "source": [
    "model_30days=RandomForestClassifier(n_estimators=300,min_samples_split = 30,min_samples_leaf=10,max_features='sqrt',\n",
    "                                max_depth=35,bootstrap=True,random_state=45)\n",
    "model_30days.fit(X_train,y_train)\n",
    "y_pred=model_30days.predict(X_test)\n",
    "y_val_pred = model_30days.predict(X_val)"
   ]
  },
  {
   "cell_type": "code",
   "execution_count": 77,
   "metadata": {},
   "outputs": [],
   "source": [
    "train_accuracy=model_30days.score(X_train,y_train)\n",
    "test_accuracy=model_30days.score(X_test,y_test)\n",
    "val_accuracy = model_30days.score(X_val,y_val)\n",
    "p_score=metrics.precision_score(y_test,y_pred)\n",
    "r_score=metrics.recall_score(y_test,y_pred)\n",
    "f1_score=metrics.f1_score(y_test,y_pred)\n",
    "fp, tp, th = metrics.roc_curve(y_test, y_pred)\n",
    "auc = metrics.auc(fp, tp)"
   ]
  },
  {
   "cell_type": "code",
   "execution_count": 78,
   "metadata": {},
   "outputs": [
    {
     "name": "stdout",
     "output_type": "stream",
     "text": [
      "Train Accuracy: 0.843\n",
      "Test Accuracy: 0.828\n",
      "Val Accuracy: 0.83\n",
      "Precision Score: 0.865\n",
      "Recall Score: 0.779\n",
      "F1 Score: 0.82\n",
      "AUC: 0.828\n",
      "Classification Report : \n",
      "              precision    recall  f1-score   support\n",
      "\n",
      "         0.0       0.80      0.88      0.84     41280\n",
      "         1.0       0.86      0.78      0.82     41609\n",
      "\n",
      "    accuracy                           0.83     82889\n",
      "   macro avg       0.83      0.83      0.83     82889\n",
      "weighted avg       0.83      0.83      0.83     82889\n",
      "\n",
      "Confusion Matrix : \n",
      "[[36211  5069]\n",
      " [ 9194 32415]]\n"
     ]
    }
   ],
   "source": [
    "print(\"Train Accuracy: {}\".format(round(train_accuracy,3)))\n",
    "print(\"Test Accuracy: {}\".format(round(test_accuracy,3)))\n",
    "print(\"Val Accuracy: {}\".format(round(val_accuracy,3)))\n",
    "\n",
    "print(\"Precision Score: {}\".format(round(p_score,3)))\n",
    "print(\"Recall Score: {}\".format(round(r_score,3)))\n",
    "print(\"F1 Score: {}\".format(round(f1_score,3)))\n",
    "print(\"AUC: {}\".format(round(auc,3)))\n",
    "\n",
    "print(\"Classification Report : \")\n",
    "print(metrics.classification_report(y_test,y_pred))\n",
    "\n",
    "\n",
    "print(\"Confusion Matrix : \")\n",
    "print(metrics.confusion_matrix(y_test,y_pred))"
   ]
  },
  {
   "cell_type": "code",
   "execution_count": 79,
   "metadata": {},
   "outputs": [
    {
     "data": {
      "image/png": "[encoded data removed]",
      "text/plain": [
       "<Figure size 432x288 with 1 Axes>"
      ]
     },
     "metadata": {
      "needs_background": "light"
     },
     "output_type": "display_data"
    }
   ],
   "source": [
    "fpr,tpr,thresholds=metrics.roc_curve(y_test,y_pred)\n",
    "\n",
    "def plot_roc_curve(fpr,tpr,label=None):\n",
    "    plt.plot(fpr,tpr,linewidth=2,label=label)\n",
    "    plt.plot([0,1],[0,1],'k--')\n",
    "    plt.axis([0,1,0,1])\n",
    "    plt.xlabel('False Positive Rate')\n",
    "    plt.ylabel('True Positive Rate')\n",
    "    \n",
    "plot_roc_curve(fpr,tpr)\n",
    "plt.show()"
   ]
  },
  {
   "cell_type": "code",
   "execution_count": 80,
   "metadata": {},
   "outputs": [
    {
     "data": {
      "image/png": "[encoded data removed]",
      "text/plain": [
       "<Figure size 432x288 with 1 Axes>"
      ]
     },
     "metadata": {
      "needs_background": "light"
     },
     "output_type": "display_data"
    }
   ],
   "source": [
    "from sklearn.model_selection import cross_val_predict\n",
    "\n",
    "y_scores=cross_val_predict(model_30days,X_train,y_train,cv=3)\n",
    "\n",
    "precisions,recalls,thresholds=metrics.precision_recall_curve(y_train,y_scores)\n",
    "\n",
    "def plot_precision_recall_vs_threshold(precisions,recalls,threshold):\n",
    "    plt.plot(thresholds,precisions[:-1],\"b--\",label=\"Precision\")\n",
    "    plt.plot(thresholds,recalls[:-1],\"g--\",label=\"Recalls\")\n",
    "    plt.xlabel(\"Threshold\")\n",
    "    plt.legend(loc=\"upper left\")\n",
    "    plt.ylim([0,1])\n",
    "    \n",
    "plot_precision_recall_vs_threshold(precisions,recalls,thresholds)\n",
    "plt.show()"
   ]
  },
  {
   "cell_type": "code",
   "execution_count": 81,
   "metadata": {},
   "outputs": [
    {
     "data": {
      "text/html": [
       "<div>\n",
       "<style scoped>\n",
       "    .dataframe tbody tr th:only-of-type {\n",
       "        vertical-align: middle;\n",
       "    }\n",
       "\n",
       "    .dataframe tbody tr th {\n",
       "        vertical-align: top;\n",
       "    }\n",
       "\n",
       "    .dataframe thead th {\n",
       "        text-align: right;\n",
       "    }\n",
       "</style>\n",
       "<table border=\"1\" class=\"dataframe\">\n",
       "  <thead>\n",
       "    <tr style=\"text-align: right;\">\n",
       "      <th></th>\n",
       "      <th>Importance</th>\n",
       "    </tr>\n",
       "  </thead>\n",
       "  <tbody>\n",
       "    <tr>\n",
       "      <th>0</th>\n",
       "      <td>0.101703</td>\n",
       "    </tr>\n",
       "    <tr>\n",
       "      <th>1</th>\n",
       "      <td>0.060869</td>\n",
       "    </tr>\n",
       "    <tr>\n",
       "      <th>2</th>\n",
       "      <td>0.033685</td>\n",
       "    </tr>\n",
       "    <tr>\n",
       "      <th>3</th>\n",
       "      <td>0.033208</td>\n",
       "    </tr>\n",
       "    <tr>\n",
       "      <th>4</th>\n",
       "      <td>0.049790</td>\n",
       "    </tr>\n",
       "    <tr>\n",
       "      <th>5</th>\n",
       "      <td>0.071037</td>\n",
       "    </tr>\n",
       "    <tr>\n",
       "      <th>6</th>\n",
       "      <td>0.072055</td>\n",
       "    </tr>\n",
       "    <tr>\n",
       "      <th>7</th>\n",
       "      <td>0.005280</td>\n",
       "    </tr>\n",
       "    <tr>\n",
       "      <th>8</th>\n",
       "      <td>0.024638</td>\n",
       "    </tr>\n",
       "    <tr>\n",
       "      <th>9</th>\n",
       "      <td>0.000333</td>\n",
       "    </tr>\n",
       "    <tr>\n",
       "      <th>10</th>\n",
       "      <td>0.014880</td>\n",
       "    </tr>\n",
       "    <tr>\n",
       "      <th>11</th>\n",
       "      <td>0.002526</td>\n",
       "    </tr>\n",
       "    <tr>\n",
       "      <th>12</th>\n",
       "      <td>0.000146</td>\n",
       "    </tr>\n",
       "    <tr>\n",
       "      <th>13</th>\n",
       "      <td>0.010012</td>\n",
       "    </tr>\n",
       "    <tr>\n",
       "      <th>14</th>\n",
       "      <td>0.061054</td>\n",
       "    </tr>\n",
       "    <tr>\n",
       "      <th>15</th>\n",
       "      <td>0.151875</td>\n",
       "    </tr>\n",
       "    <tr>\n",
       "      <th>16</th>\n",
       "      <td>0.000027</td>\n",
       "    </tr>\n",
       "    <tr>\n",
       "      <th>17</th>\n",
       "      <td>0.000023</td>\n",
       "    </tr>\n",
       "    <tr>\n",
       "      <th>18</th>\n",
       "      <td>0.001636</td>\n",
       "    </tr>\n",
       "    <tr>\n",
       "      <th>19</th>\n",
       "      <td>0.022257</td>\n",
       "    </tr>\n",
       "    <tr>\n",
       "      <th>20</th>\n",
       "      <td>0.057063</td>\n",
       "    </tr>\n",
       "    <tr>\n",
       "      <th>21</th>\n",
       "      <td>0.015379</td>\n",
       "    </tr>\n",
       "    <tr>\n",
       "      <th>22</th>\n",
       "      <td>0.011511</td>\n",
       "    </tr>\n",
       "    <tr>\n",
       "      <th>23</th>\n",
       "      <td>0.044684</td>\n",
       "    </tr>\n",
       "    <tr>\n",
       "      <th>24</th>\n",
       "      <td>0.055956</td>\n",
       "    </tr>\n",
       "    <tr>\n",
       "      <th>25</th>\n",
       "      <td>0.010463</td>\n",
       "    </tr>\n",
       "    <tr>\n",
       "      <th>26</th>\n",
       "      <td>0.007454</td>\n",
       "    </tr>\n",
       "    <tr>\n",
       "      <th>27</th>\n",
       "      <td>0.004730</td>\n",
       "    </tr>\n",
       "    <tr>\n",
       "      <th>28</th>\n",
       "      <td>0.000000</td>\n",
       "    </tr>\n",
       "    <tr>\n",
       "      <th>29</th>\n",
       "      <td>0.001448</td>\n",
       "    </tr>\n",
       "    <tr>\n",
       "      <th>30</th>\n",
       "      <td>0.000000</td>\n",
       "    </tr>\n",
       "    <tr>\n",
       "      <th>31</th>\n",
       "      <td>0.008031</td>\n",
       "    </tr>\n",
       "    <tr>\n",
       "      <th>32</th>\n",
       "      <td>0.013016</td>\n",
       "    </tr>\n",
       "    <tr>\n",
       "      <th>33</th>\n",
       "      <td>0.008092</td>\n",
       "    </tr>\n",
       "    <tr>\n",
       "      <th>34</th>\n",
       "      <td>0.000000</td>\n",
       "    </tr>\n",
       "    <tr>\n",
       "      <th>35</th>\n",
       "      <td>0.000000</td>\n",
       "    </tr>\n",
       "    <tr>\n",
       "      <th>36</th>\n",
       "      <td>0.000000</td>\n",
       "    </tr>\n",
       "    <tr>\n",
       "      <th>37</th>\n",
       "      <td>0.002770</td>\n",
       "    </tr>\n",
       "    <tr>\n",
       "      <th>38</th>\n",
       "      <td>0.002118</td>\n",
       "    </tr>\n",
       "    <tr>\n",
       "      <th>39</th>\n",
       "      <td>0.003960</td>\n",
       "    </tr>\n",
       "    <tr>\n",
       "      <th>40</th>\n",
       "      <td>0.000000</td>\n",
       "    </tr>\n",
       "    <tr>\n",
       "      <th>41</th>\n",
       "      <td>0.009285</td>\n",
       "    </tr>\n",
       "    <tr>\n",
       "      <th>42</th>\n",
       "      <td>0.009437</td>\n",
       "    </tr>\n",
       "    <tr>\n",
       "      <th>43</th>\n",
       "      <td>0.000000</td>\n",
       "    </tr>\n",
       "    <tr>\n",
       "      <th>44</th>\n",
       "      <td>0.001377</td>\n",
       "    </tr>\n",
       "    <tr>\n",
       "      <th>45</th>\n",
       "      <td>0.001327</td>\n",
       "    </tr>\n",
       "    <tr>\n",
       "      <th>46</th>\n",
       "      <td>0.000000</td>\n",
       "    </tr>\n",
       "    <tr>\n",
       "      <th>47</th>\n",
       "      <td>0.000256</td>\n",
       "    </tr>\n",
       "    <tr>\n",
       "      <th>48</th>\n",
       "      <td>0.000303</td>\n",
       "    </tr>\n",
       "    <tr>\n",
       "      <th>49</th>\n",
       "      <td>0.000000</td>\n",
       "    </tr>\n",
       "    <tr>\n",
       "      <th>50</th>\n",
       "      <td>0.002688</td>\n",
       "    </tr>\n",
       "    <tr>\n",
       "      <th>51</th>\n",
       "      <td>0.002901</td>\n",
       "    </tr>\n",
       "    <tr>\n",
       "      <th>52</th>\n",
       "      <td>0.001560</td>\n",
       "    </tr>\n",
       "    <tr>\n",
       "      <th>53</th>\n",
       "      <td>0.000000</td>\n",
       "    </tr>\n",
       "    <tr>\n",
       "      <th>54</th>\n",
       "      <td>0.002814</td>\n",
       "    </tr>\n",
       "    <tr>\n",
       "      <th>55</th>\n",
       "      <td>0.001850</td>\n",
       "    </tr>\n",
       "    <tr>\n",
       "      <th>56</th>\n",
       "      <td>0.002492</td>\n",
       "    </tr>\n",
       "    <tr>\n",
       "      <th>57</th>\n",
       "      <td>0.000000</td>\n",
       "    </tr>\n",
       "  </tbody>\n",
       "</table>\n",
       "</div>"
      ],
      "text/plain": [
       "    Importance\n",
       "0     0.101703\n",
       "1     0.060869\n",
       "2     0.033685\n",
       "3     0.033208\n",
       "4     0.049790\n",
       "5     0.071037\n",
       "6     0.072055\n",
       "7     0.005280\n",
       "8     0.024638\n",
       "9     0.000333\n",
       "10    0.014880\n",
       "11    0.002526\n",
       "12    0.000146\n",
       "13    0.010012\n",
       "14    0.061054\n",
       "15    0.151875\n",
       "16    0.000027\n",
       "17    0.000023\n",
       "18    0.001636\n",
       "19    0.022257\n",
       "20    0.057063\n",
       "21    0.015379\n",
       "22    0.011511\n",
       "23    0.044684\n",
       "24    0.055956\n",
       "25    0.010463\n",
       "26    0.007454\n",
       "27    0.004730\n",
       "28    0.000000\n",
       "29    0.001448\n",
       "30    0.000000\n",
       "31    0.008031\n",
       "32    0.013016\n",
       "33    0.008092\n",
       "34    0.000000\n",
       "35    0.000000\n",
       "36    0.000000\n",
       "37    0.002770\n",
       "38    0.002118\n",
       "39    0.003960\n",
       "40    0.000000\n",
       "41    0.009285\n",
       "42    0.009437\n",
       "43    0.000000\n",
       "44    0.001377\n",
       "45    0.001327\n",
       "46    0.000000\n",
       "47    0.000256\n",
       "48    0.000303\n",
       "49    0.000000\n",
       "50    0.002688\n",
       "51    0.002901\n",
       "52    0.001560\n",
       "53    0.000000\n",
       "54    0.002814\n",
       "55    0.001850\n",
       "56    0.002492\n",
       "57    0.000000"
      ]
     },
     "execution_count": 81,
     "metadata": {},
     "output_type": "execute_result"
    }
   ],
   "source": [
    "df_f = pd.DataFrame(model_30days.feature_importances_, columns=[\"Importance\"])\n",
    "df_f"
   ]
  },
  {
   "cell_type": "code",
   "execution_count": 82,
   "metadata": {},
   "outputs": [
    {
     "data": {
      "text/plain": [
       "Index(['AON', 'AGE', 'NUMBER_OF_OS_BILLS', 'RECURRING_AMT', 'LAST_BILL_AMT',\n",
       "       'LAST_PAY_AMT', 'TOT_BILLED_OS_AMT', 'COMMIT_MONTH', 'LEFT_DAYS',\n",
       "       'FiveG_plan', 'LEFT_MONTHS', 'jan_package', 'jan_offer_price',\n",
       "       'GTL_FACTOR', 'jan_revenue', 'jan_data_usage', 'jan_in_call_amt',\n",
       "       'jan_in_call_cnt', 'jan_out_call_amt', 'jan_out_call_cnt', 'jan_bill',\n",
       "       'CIVIL_ID_VOICE_IN_COMMITMENT_LINE_CNT',\n",
       "       'CIVIL_ID_VOICE_NOT_COMMITTED_LINE_CNT',\n",
       "       'CIVIL_ID_DATA_IN_COMMITMENT_LINE_CNT',\n",
       "       'CIVIL_ID_DATA_NOT_COMMITTED_LINE_CNT', 'value_base_seg_1 WBB H',\n",
       "       'value_base_seg_2 WBB M', 'value_base_seg_3 WBB L',\n",
       "       'value_base_seg_7.Internal Test', 'value_base_seg_?',\n",
       "       'value_base_seg_nan', 'BARRING_STATUS_?', 'BARRING_STATUS_BARRED',\n",
       "       'BARRING_STATUS_NOT BARRED', 'BARRING_STATUS_nan',\n",
       "       'ACTIVATION_CHANNEL_TYPE_?', 'ACTIVATION_CHANNEL_TYPE_nan',\n",
       "       'Contarct_status_?', 'Contarct_status_COMMITED',\n",
       "       'Contarct_status_NON_COMMITED', 'Contarct_status_nan',\n",
       "       'sim_device_commit_device', 'sim_device_commit_sim',\n",
       "       'sim_device_commit_nan', 'A_freeze_status_?', 'A_freeze_status_A',\n",
       "       'A_freeze_status_nan', 'D_freeze_status_?', 'D_freeze_status_D',\n",
       "       'D_freeze_status_nan', 'TOP_LOC_5G_?', 'TOP_LOC_5G_N', 'TOP_LOC_5G_Y',\n",
       "       'TOP_LOC_5G_nan', 'congested_flag_?', 'congested_flag_N',\n",
       "       'congested_flag_Y', 'congested_flag_nan'],\n",
       "      dtype='object')"
      ]
     },
     "execution_count": 82,
     "metadata": {},
     "output_type": "execute_result"
    }
   ],
   "source": [
    "X_train.columns"
   ]
  },
  {
   "cell_type": "code",
   "execution_count": 83,
   "metadata": {},
   "outputs": [
    {
     "data": {
      "image/png": "[encoded data removed]",
      "text/plain": [
       "<Figure size 1080x576 with 1 Axes>"
      ]
     },
     "metadata": {
      "needs_background": "light"
     },
     "output_type": "display_data"
    }
   ],
   "source": [
    "#Feature Importance\n",
    "df_f = pd.DataFrame(model_30days.feature_importances_, columns=[\"Importance\"])\n",
    "df_f['Labels'] = X_train.columns\n",
    "df_f.sort_values(\"Importance\", inplace=True, ascending=True)\n",
    "df_f.set_index('Labels').sort_values(by='Importance', ascending=True)[19:].plot(kind='barh',figsize=(15,8), width=0.85)\n",
    "\n",
    "#df_f.set_index('Labels').sort_values(by='Importance', ascending=True)[9:].plot(kind='barh', figsize=(20,20), width=0.85)\n",
    "plt.xticks(fontsize=16)\n",
    "plt.yticks(fontsize=16)\n",
    "plt.grid(linewidth=1.0, alpha=0.3, color='lightgrey')\n",
    "plt.tight_layout()\n",
    "plt.show()"
   ]
  },
  {
   "cell_type": "code",
   "execution_count": 84,
   "metadata": {},
   "outputs": [
    {
     "data": {
      "image/png": "[encoded data removed]",
      "text/plain": [
       "<Figure size 1296x720 with 1 Axes>"
      ]
     },
     "metadata": {
      "needs_background": "light"
     },
     "output_type": "display_data"
    }
   ],
   "source": [
    "#Feature Importance\n",
    "df_f = pd.DataFrame(model_30days.feature_importances_, columns=[\"Importance\"])\n",
    "df_f['Labels'] = X_train.columns\n",
    "df_f.sort_values(\"Importance\", inplace=True, ascending=True)\n",
    "df_f.set_index('Labels').sort_values(by='Importance', ascending=True)[25:].plot(kind='barh', figsize=(18,10), width=0.65)\n",
    "plt.xticks(fontsize=6)\n",
    "plt.yticks(fontsize=10)\n",
    "plt.grid(linewidth=0.7, alpha=0.3, color='lightgrey')\n",
    "plt.tight_layout()\n",
    "plt.show()"
   ]
  },
  {
   "cell_type": "code",
   "execution_count": 85,
   "metadata": {},
   "outputs": [],
   "source": [
    "# Save the Modle to file in the current working directory\n",
    "import pickle\n",
    "Pkl_Filename = \"RF_Model_30days.pkl\"  \n",
    "\n",
    "with open(Pkl_Filename, 'wb') as file:  \n",
    "    pickle.dump(model_30days, file)"
   ]
  },
  {
   "cell_type": "code",
   "execution_count": 86,
   "metadata": {},
   "outputs": [
    {
     "data": {
      "text/plain": [
       "RandomForestClassifier(bootstrap=True, ccp_alpha=0.0, class_weight=None,\n",
       "                       criterion='gini', max_depth=18, max_features='sqrt',\n",
       "                       max_leaf_nodes=None, max_samples=None,\n",
       "                       min_impurity_decrease=0.0, min_impurity_split=None,\n",
       "                       min_samples_leaf=10, min_samples_split=30,\n",
       "                       min_weight_fraction_leaf=0.0, n_estimators=500,\n",
       "                       n_jobs=None, oob_score=False, random_state=100,\n",
       "                       verbose=0, warm_start=False)"
      ]
     },
     "execution_count": 86,
     "metadata": {},
     "output_type": "execute_result"
    }
   ],
   "source": [
    "# Load the Model back from file\n",
    "with open(Pkl_Filename, 'rb') as file:  \n",
    "    rf_model_30days = pickle.load(file)\n",
    "\n",
    "rf_model_30days"
   ]
  },
  {
   "cell_type": "code",
   "execution_count": 87,
   "metadata": {},
   "outputs": [],
   "source": [
    "AB=rf_model_30days.predict(A)"
   ]
  },
  {
   "cell_type": "code",
   "execution_count": 88,
   "metadata": {},
   "outputs": [
    {
     "data": {
      "text/plain": [
       "array([0., 0., 0., ..., 0., 0., 0.])"
      ]
     },
     "execution_count": 88,
     "metadata": {},
     "output_type": "execute_result"
    }
   ],
   "source": [
    "AB"
   ]
  },
  {
   "cell_type": "code",
   "execution_count": 89,
   "metadata": {},
   "outputs": [
    {
     "data": {
      "text/html": [
       "<div>\n",
       "<style scoped>\n",
       "    .dataframe tbody tr th:only-of-type {\n",
       "        vertical-align: middle;\n",
       "    }\n",
       "\n",
       "    .dataframe tbody tr th {\n",
       "        vertical-align: top;\n",
       "    }\n",
       "\n",
       "    .dataframe thead th {\n",
       "        text-align: right;\n",
       "    }\n",
       "</style>\n",
       "<table border=\"1\" class=\"dataframe\">\n",
       "  <thead>\n",
       "    <tr style=\"text-align: right;\">\n",
       "      <th></th>\n",
       "      <th>0</th>\n",
       "    </tr>\n",
       "  </thead>\n",
       "  <tbody>\n",
       "    <tr>\n",
       "      <th>0</th>\n",
       "      <td>0.0</td>\n",
       "    </tr>\n",
       "    <tr>\n",
       "      <th>1</th>\n",
       "      <td>0.0</td>\n",
       "    </tr>\n",
       "    <tr>\n",
       "      <th>2</th>\n",
       "      <td>0.0</td>\n",
       "    </tr>\n",
       "    <tr>\n",
       "      <th>3</th>\n",
       "      <td>0.0</td>\n",
       "    </tr>\n",
       "    <tr>\n",
       "      <th>4</th>\n",
       "      <td>0.0</td>\n",
       "    </tr>\n",
       "    <tr>\n",
       "      <th>...</th>\n",
       "      <td>...</td>\n",
       "    </tr>\n",
       "    <tr>\n",
       "      <th>172197</th>\n",
       "      <td>0.0</td>\n",
       "    </tr>\n",
       "    <tr>\n",
       "      <th>172198</th>\n",
       "      <td>1.0</td>\n",
       "    </tr>\n",
       "    <tr>\n",
       "      <th>172199</th>\n",
       "      <td>0.0</td>\n",
       "    </tr>\n",
       "    <tr>\n",
       "      <th>172200</th>\n",
       "      <td>0.0</td>\n",
       "    </tr>\n",
       "    <tr>\n",
       "      <th>172201</th>\n",
       "      <td>0.0</td>\n",
       "    </tr>\n",
       "  </tbody>\n",
       "</table>\n",
       "<p>172202 rows × 1 columns</p>\n",
       "</div>"
      ],
      "text/plain": [
       "          0\n",
       "0       0.0\n",
       "1       0.0\n",
       "2       0.0\n",
       "3       0.0\n",
       "4       0.0\n",
       "...     ...\n",
       "172197  0.0\n",
       "172198  1.0\n",
       "172199  0.0\n",
       "172200  0.0\n",
       "172201  0.0\n",
       "\n",
       "[172202 rows x 1 columns]"
      ]
     },
     "execution_count": 89,
     "metadata": {},
     "output_type": "execute_result"
    }
   ],
   "source": [
    "dp1=pd.DataFrame(AB)\n",
    "dp1"
   ]
  },
  {
   "cell_type": "code",
   "execution_count": 90,
   "metadata": {},
   "outputs": [
    {
     "data": {
      "text/plain": [
       "(172202,)"
      ]
     },
     "execution_count": 90,
     "metadata": {},
     "output_type": "execute_result"
    }
   ],
   "source": [
    "AB.shape"
   ]
  },
  {
   "cell_type": "code",
   "execution_count": 91,
   "metadata": {},
   "outputs": [
    {
     "data": {
      "text/plain": [
       "0.0    148559\n",
       "1.0     23643\n",
       "dtype: int64"
      ]
     },
     "execution_count": 91,
     "metadata": {},
     "output_type": "execute_result"
    }
   ],
   "source": [
    "pd.Series(AB).value_counts()"
   ]
  },
  {
   "cell_type": "code",
   "execution_count": 92,
   "metadata": {},
   "outputs": [
    {
     "name": "stdout",
     "output_type": "stream",
     "text": [
      "Classification Report : \n",
      "              precision    recall  f1-score   support\n",
      "\n",
      "         0.0       0.99      0.89      0.94    165779\n",
      "         1.0       0.21      0.78      0.33      6423\n",
      "\n",
      "    accuracy                           0.88    172202\n",
      "   macro avg       0.60      0.83      0.63    172202\n",
      "weighted avg       0.96      0.88      0.91    172202\n",
      "\n",
      "Confusion Matrix : \n",
      "[[147139  18640]\n",
      " [  1420   5003]]\n"
     ]
    }
   ],
   "source": [
    "# print(\"Train Accuracy: {}\".format(round(train_accuracy,3)))\n",
    "# print(\"Test Accuracy: {}\".format(round(test_accuracy,3)))\n",
    "# print(\"Val Accuracy: {}\".format(round(val_accuracy,3)))\n",
    "\n",
    "# print(\"Precision Score: {}\".format(round(p_score,3)))\n",
    "# print(\"Recall Score: {}\".format(round(r_score,3)))\n",
    "# print(\"F1 Score: {}\".format(round(f1_score,3)))\n",
    "# print(\"AUC: {}\".format(round(auc,3)))\n",
    "\n",
    "print(\"Classification Report : \")\n",
    "print(metrics.classification_report(B,AB))\n",
    "\n",
    "\n",
    "print(\"Confusion Matrix : \")\n",
    "print(metrics.confusion_matrix(B,AB))"
   ]
  },
  {
   "cell_type": "code",
   "execution_count": 93,
   "metadata": {},
   "outputs": [],
   "source": [
    "h = rf_model_30days.predict_proba(A)\n",
    "h = h[:,1]"
   ]
  },
  {
   "cell_type": "code",
   "execution_count": 94,
   "metadata": {},
   "outputs": [
    {
     "data": {
      "text/plain": [
       "array([0.47430763, 0.25470237, 0.21953275, ..., 0.39826541, 0.37101365,\n",
       "       0.37008338])"
      ]
     },
     "execution_count": 94,
     "metadata": {},
     "output_type": "execute_result"
    }
   ],
   "source": [
    "h"
   ]
  },
  {
   "cell_type": "code",
   "execution_count": 95,
   "metadata": {},
   "outputs": [
    {
     "data": {
      "text/plain": [
       "0.103785    202\n",
       "0.085083    153\n",
       "0.083195     98\n",
       "0.095932     82\n",
       "0.084765     79\n",
       "           ... \n",
       "0.546264      1\n",
       "0.416636      1\n",
       "0.097776      1\n",
       "0.305621      1\n",
       "0.282975      1\n",
       "Length: 166100, dtype: int64"
      ]
     },
     "execution_count": 95,
     "metadata": {},
     "output_type": "execute_result"
    }
   ],
   "source": [
    "pd.Series(h[:,]).value_counts()"
   ]
  },
  {
   "cell_type": "code",
   "execution_count": 96,
   "metadata": {},
   "outputs": [
    {
     "data": {
      "text/html": [
       "<div>\n",
       "<style scoped>\n",
       "    .dataframe tbody tr th:only-of-type {\n",
       "        vertical-align: middle;\n",
       "    }\n",
       "\n",
       "    .dataframe tbody tr th {\n",
       "        vertical-align: top;\n",
       "    }\n",
       "\n",
       "    .dataframe thead th {\n",
       "        text-align: right;\n",
       "    }\n",
       "</style>\n",
       "<table border=\"1\" class=\"dataframe\">\n",
       "  <thead>\n",
       "    <tr style=\"text-align: right;\">\n",
       "      <th></th>\n",
       "      <th>0</th>\n",
       "    </tr>\n",
       "  </thead>\n",
       "  <tbody>\n",
       "    <tr>\n",
       "      <th>0</th>\n",
       "      <td>0.474308</td>\n",
       "    </tr>\n",
       "    <tr>\n",
       "      <th>1</th>\n",
       "      <td>0.254702</td>\n",
       "    </tr>\n",
       "    <tr>\n",
       "      <th>2</th>\n",
       "      <td>0.219533</td>\n",
       "    </tr>\n",
       "    <tr>\n",
       "      <th>3</th>\n",
       "      <td>0.375221</td>\n",
       "    </tr>\n",
       "    <tr>\n",
       "      <th>4</th>\n",
       "      <td>0.276403</td>\n",
       "    </tr>\n",
       "    <tr>\n",
       "      <th>...</th>\n",
       "      <td>...</td>\n",
       "    </tr>\n",
       "    <tr>\n",
       "      <th>172197</th>\n",
       "      <td>0.399784</td>\n",
       "    </tr>\n",
       "    <tr>\n",
       "      <th>172198</th>\n",
       "      <td>0.673723</td>\n",
       "    </tr>\n",
       "    <tr>\n",
       "      <th>172199</th>\n",
       "      <td>0.398265</td>\n",
       "    </tr>\n",
       "    <tr>\n",
       "      <th>172200</th>\n",
       "      <td>0.371014</td>\n",
       "    </tr>\n",
       "    <tr>\n",
       "      <th>172201</th>\n",
       "      <td>0.370083</td>\n",
       "    </tr>\n",
       "  </tbody>\n",
       "</table>\n",
       "<p>172202 rows × 1 columns</p>\n",
       "</div>"
      ],
      "text/plain": [
       "               0\n",
       "0       0.474308\n",
       "1       0.254702\n",
       "2       0.219533\n",
       "3       0.375221\n",
       "4       0.276403\n",
       "...          ...\n",
       "172197  0.399784\n",
       "172198  0.673723\n",
       "172199  0.398265\n",
       "172200  0.371014\n",
       "172201  0.370083\n",
       "\n",
       "[172202 rows x 1 columns]"
      ]
     },
     "execution_count": 96,
     "metadata": {},
     "output_type": "execute_result"
    }
   ],
   "source": [
    "dp=pd.DataFrame(h)\n",
    "dp"
   ]
  },
  {
   "cell_type": "code",
   "execution_count": 97,
   "metadata": {},
   "outputs": [],
   "source": [
    "churn_df=pd.DataFrame()"
   ]
  },
  {
   "cell_type": "code",
   "execution_count": 98,
   "metadata": {},
   "outputs": [],
   "source": [
    "churn_df['Churn_Group'] = pd.cut(dp[0], bins=[-0.1,0.2,0.4,0.6,0.8,1], labels=[\"V Low\",\"Low\", \"Medium\", \"High\",\"V High\"])"
   ]
  },
  {
   "cell_type": "code",
   "execution_count": 99,
   "metadata": {},
   "outputs": [],
   "source": [
    "churn_df['Quantile_cut']= pd.cut(dp[0], bins=[-0.1,0.05,0.1,0.15,0.2,0.25,0.3,0.35,0.4,0.45,0.5,0.55,0.6,0.65,0.7,0.75,0.8,0.85,0.9,0.95,1],\n",
    "                      labels=['1','2','3','4','5','6','7','8','9','10','11','12','13','14','15','16','17','18','19','20'])"
   ]
  },
  {
   "cell_type": "code",
   "execution_count": 100,
   "metadata": {},
   "outputs": [
    {
     "data": {
      "text/plain": [
       "<matplotlib.axes._subplots.AxesSubplot at 0x19f0098cf08>"
      ]
     },
     "execution_count": 100,
     "metadata": {},
     "output_type": "execute_result"
    },
    {
     "data": {
      "image/png": "[encoded data removed]",
      "text/plain": [
       "<Figure size 432x288 with 1 Axes>"
      ]
     },
     "metadata": {
      "needs_background": "light"
     },
     "output_type": "display_data"
    }
   ],
   "source": [
    "sns.countplot(churn_df['Quantile_cut'])"
   ]
  },
  {
   "cell_type": "code",
   "execution_count": 101,
   "metadata": {},
   "outputs": [
    {
     "data": {
      "image/png": "[encoded data removed]",
      "text/plain": [
       "<Figure size 1080x576 with 1 Axes>"
      ]
     },
     "metadata": {
      "needs_background": "light"
     },
     "output_type": "display_data"
    }
   ],
   "source": [
    "s = churn_df['Quantile_cut'].value_counts().sort_index()\n",
    "\n",
    "plt.figure(figsize=(15,8))\n",
    "ax=s.plot.bar(width=.9) \n",
    "#ax = sns.countplot(x=\"class\", data=data)\n",
    "plt.xticks(rotation=0)\n",
    "for i, v in s.reset_index().iterrows():\n",
    "    ax.text(i, v.Quantile_cut + 0.2 , v.Quantile_cut, color='black')"
   ]
  },
  {
   "cell_type": "code",
   "execution_count": 102,
   "metadata": {},
   "outputs": [
    {
     "data": {
      "text/plain": [
       "Low       98548\n",
       "Medium    33101\n",
       "V Low     27420\n",
       "High      11069\n",
       "V High     2064\n",
       "Name: Churn_Group, dtype: int64"
      ]
     },
     "execution_count": 102,
     "metadata": {},
     "output_type": "execute_result"
    }
   ],
   "source": [
    "churn_df['Churn_Group'].value_counts()"
   ]
  },
  {
   "cell_type": "code",
   "execution_count": 103,
   "metadata": {},
   "outputs": [
    {
     "data": {
      "text/plain": [
       "<matplotlib.axes._subplots.AxesSubplot at 0x19f009db3c8>"
      ]
     },
     "execution_count": 103,
     "metadata": {},
     "output_type": "execute_result"
    },
    {
     "data": {
      "image/png": "[encoded data removed]",
      "text/plain": [
       "<Figure size 432x288 with 1 Axes>"
      ]
     },
     "metadata": {
      "needs_background": "light"
     },
     "output_type": "display_data"
    }
   ],
   "source": [
    "sns.countplot(churn_df['Churn_Group'])"
   ]
  },
  {
   "cell_type": "code",
   "execution_count": 104,
   "metadata": {},
   "outputs": [
    {
     "data": {
      "image/png": "[encoded data removed]",
      "text/plain": [
       "<Figure size 720x576 with 1 Axes>"
      ]
     },
     "metadata": {
      "needs_background": "light"
     },
     "output_type": "display_data"
    }
   ],
   "source": [
    "s = churn_df['Churn_Group'].value_counts().sort_index()\n",
    "\n",
    "plt.figure(figsize=(10,8))\n",
    "ax=s.plot.bar(width=.9) \n",
    "#ax = sns.countplot(x=\"class\", data=data)\n",
    "plt.xticks(rotation=0)\n",
    "for i, v in s.reset_index().iterrows():\n",
    "    ax.text(i, v.Churn_Group + 0.2 , v.Churn_Group, color='black')"
   ]
  },
  {
   "cell_type": "code",
   "execution_count": 105,
   "metadata": {},
   "outputs": [],
   "source": [
    "churn_df['CO_ID']=data['Co_id']\n",
    "churn_df['Actual_churn']=y\n",
    "churn_df['Predict_churn']=dp1[0]\n",
    "churn_df['Churn_Probability']=dp[0]\n"
   ]
  },
  {
   "cell_type": "code",
   "execution_count": 106,
   "metadata": {},
   "outputs": [
    {
     "data": {
      "text/plain": [
       "['Churn_Group',\n",
       " 'Quantile_cut',\n",
       " 'CO_ID',\n",
       " 'Actual_churn',\n",
       " 'Predict_churn',\n",
       " 'Churn_Probability']"
      ]
     },
     "execution_count": 106,
     "metadata": {},
     "output_type": "execute_result"
    }
   ],
   "source": [
    "list(churn_df)"
   ]
  },
  {
   "cell_type": "code",
   "execution_count": 107,
   "metadata": {},
   "outputs": [
    {
     "data": {
      "text/html": [
       "<div>\n",
       "<style scoped>\n",
       "    .dataframe tbody tr th:only-of-type {\n",
       "        vertical-align: middle;\n",
       "    }\n",
       "\n",
       "    .dataframe tbody tr th {\n",
       "        vertical-align: top;\n",
       "    }\n",
       "\n",
       "    .dataframe thead th {\n",
       "        text-align: right;\n",
       "    }\n",
       "</style>\n",
       "<table border=\"1\" class=\"dataframe\">\n",
       "  <thead>\n",
       "    <tr style=\"text-align: right;\">\n",
       "      <th></th>\n",
       "      <th>CO_ID</th>\n",
       "      <th>Churn_Probability</th>\n",
       "      <th>Churn_Group</th>\n",
       "      <th>Predict_churn</th>\n",
       "      <th>Quantile_cut</th>\n",
       "    </tr>\n",
       "  </thead>\n",
       "  <tbody>\n",
       "    <tr>\n",
       "      <th>0</th>\n",
       "      <td>14086666</td>\n",
       "      <td>0.474308</td>\n",
       "      <td>Medium</td>\n",
       "      <td>0.0</td>\n",
       "      <td>10</td>\n",
       "    </tr>\n",
       "    <tr>\n",
       "      <th>1</th>\n",
       "      <td>13431983</td>\n",
       "      <td>0.254702</td>\n",
       "      <td>Low</td>\n",
       "      <td>0.0</td>\n",
       "      <td>6</td>\n",
       "    </tr>\n",
       "    <tr>\n",
       "      <th>2</th>\n",
       "      <td>10367687</td>\n",
       "      <td>0.219533</td>\n",
       "      <td>Low</td>\n",
       "      <td>0.0</td>\n",
       "      <td>5</td>\n",
       "    </tr>\n",
       "    <tr>\n",
       "      <th>3</th>\n",
       "      <td>16538266</td>\n",
       "      <td>0.375221</td>\n",
       "      <td>Low</td>\n",
       "      <td>0.0</td>\n",
       "      <td>8</td>\n",
       "    </tr>\n",
       "    <tr>\n",
       "      <th>4</th>\n",
       "      <td>19522544</td>\n",
       "      <td>0.276403</td>\n",
       "      <td>Low</td>\n",
       "      <td>0.0</td>\n",
       "      <td>6</td>\n",
       "    </tr>\n",
       "    <tr>\n",
       "      <th>...</th>\n",
       "      <td>...</td>\n",
       "      <td>...</td>\n",
       "      <td>...</td>\n",
       "      <td>...</td>\n",
       "      <td>...</td>\n",
       "    </tr>\n",
       "    <tr>\n",
       "      <th>172197</th>\n",
       "      <td>13531232</td>\n",
       "      <td>0.399784</td>\n",
       "      <td>Low</td>\n",
       "      <td>0.0</td>\n",
       "      <td>8</td>\n",
       "    </tr>\n",
       "    <tr>\n",
       "      <th>172198</th>\n",
       "      <td>11882279</td>\n",
       "      <td>0.673723</td>\n",
       "      <td>High</td>\n",
       "      <td>1.0</td>\n",
       "      <td>14</td>\n",
       "    </tr>\n",
       "    <tr>\n",
       "      <th>172199</th>\n",
       "      <td>19139483</td>\n",
       "      <td>0.398265</td>\n",
       "      <td>Low</td>\n",
       "      <td>0.0</td>\n",
       "      <td>8</td>\n",
       "    </tr>\n",
       "    <tr>\n",
       "      <th>172200</th>\n",
       "      <td>17368056</td>\n",
       "      <td>0.371014</td>\n",
       "      <td>Low</td>\n",
       "      <td>0.0</td>\n",
       "      <td>8</td>\n",
       "    </tr>\n",
       "    <tr>\n",
       "      <th>172201</th>\n",
       "      <td>17219358</td>\n",
       "      <td>0.370083</td>\n",
       "      <td>Low</td>\n",
       "      <td>0.0</td>\n",
       "      <td>8</td>\n",
       "    </tr>\n",
       "  </tbody>\n",
       "</table>\n",
       "<p>172202 rows × 5 columns</p>\n",
       "</div>"
      ],
      "text/plain": [
       "           CO_ID  Churn_Probability Churn_Group  Predict_churn Quantile_cut\n",
       "0       14086666           0.474308      Medium            0.0           10\n",
       "1       13431983           0.254702         Low            0.0            6\n",
       "2       10367687           0.219533         Low            0.0            5\n",
       "3       16538266           0.375221         Low            0.0            8\n",
       "4       19522544           0.276403         Low            0.0            6\n",
       "...          ...                ...         ...            ...          ...\n",
       "172197  13531232           0.399784         Low            0.0            8\n",
       "172198  11882279           0.673723        High            1.0           14\n",
       "172199  19139483           0.398265         Low            0.0            8\n",
       "172200  17368056           0.371014         Low            0.0            8\n",
       "172201  17219358           0.370083         Low            0.0            8\n",
       "\n",
       "[172202 rows x 5 columns]"
      ]
     },
     "execution_count": 107,
     "metadata": {},
     "output_type": "execute_result"
    }
   ],
   "source": [
    "model_output = churn_df[['CO_ID','Churn_Probability','Churn_Group','Predict_churn','Quantile_cut']]\n",
    "model_output"
   ]
  },
  {
   "cell_type": "code",
   "execution_count": 108,
   "metadata": {},
   "outputs": [
    {
     "data": {
      "text/html": [
       "<div>\n",
       "<style scoped>\n",
       "    .dataframe tbody tr th:only-of-type {\n",
       "        vertical-align: middle;\n",
       "    }\n",
       "\n",
       "    .dataframe tbody tr th {\n",
       "        vertical-align: top;\n",
       "    }\n",
       "\n",
       "    .dataframe thead th {\n",
       "        text-align: right;\n",
       "    }\n",
       "</style>\n",
       "<table border=\"1\" class=\"dataframe\">\n",
       "  <thead>\n",
       "    <tr style=\"text-align: right;\">\n",
       "      <th></th>\n",
       "      <th>CO_ID</th>\n",
       "      <th>Churn_Probability</th>\n",
       "      <th>Churn_Group</th>\n",
       "      <th>Predict_churn</th>\n",
       "      <th>Actual_churn</th>\n",
       "    </tr>\n",
       "  </thead>\n",
       "  <tbody>\n",
       "    <tr>\n",
       "      <th>0</th>\n",
       "      <td>14086666</td>\n",
       "      <td>0.474308</td>\n",
       "      <td>Medium</td>\n",
       "      <td>0.0</td>\n",
       "      <td>0.0</td>\n",
       "    </tr>\n",
       "    <tr>\n",
       "      <th>1</th>\n",
       "      <td>13431983</td>\n",
       "      <td>0.254702</td>\n",
       "      <td>Low</td>\n",
       "      <td>0.0</td>\n",
       "      <td>0.0</td>\n",
       "    </tr>\n",
       "    <tr>\n",
       "      <th>2</th>\n",
       "      <td>10367687</td>\n",
       "      <td>0.219533</td>\n",
       "      <td>Low</td>\n",
       "      <td>0.0</td>\n",
       "      <td>0.0</td>\n",
       "    </tr>\n",
       "    <tr>\n",
       "      <th>3</th>\n",
       "      <td>16538266</td>\n",
       "      <td>0.375221</td>\n",
       "      <td>Low</td>\n",
       "      <td>0.0</td>\n",
       "      <td>0.0</td>\n",
       "    </tr>\n",
       "    <tr>\n",
       "      <th>4</th>\n",
       "      <td>19522544</td>\n",
       "      <td>0.276403</td>\n",
       "      <td>Low</td>\n",
       "      <td>0.0</td>\n",
       "      <td>0.0</td>\n",
       "    </tr>\n",
       "    <tr>\n",
       "      <th>...</th>\n",
       "      <td>...</td>\n",
       "      <td>...</td>\n",
       "      <td>...</td>\n",
       "      <td>...</td>\n",
       "      <td>...</td>\n",
       "    </tr>\n",
       "    <tr>\n",
       "      <th>172197</th>\n",
       "      <td>13531232</td>\n",
       "      <td>0.399784</td>\n",
       "      <td>Low</td>\n",
       "      <td>0.0</td>\n",
       "      <td>1.0</td>\n",
       "    </tr>\n",
       "    <tr>\n",
       "      <th>172198</th>\n",
       "      <td>11882279</td>\n",
       "      <td>0.673723</td>\n",
       "      <td>High</td>\n",
       "      <td>1.0</td>\n",
       "      <td>1.0</td>\n",
       "    </tr>\n",
       "    <tr>\n",
       "      <th>172199</th>\n",
       "      <td>19139483</td>\n",
       "      <td>0.398265</td>\n",
       "      <td>Low</td>\n",
       "      <td>0.0</td>\n",
       "      <td>1.0</td>\n",
       "    </tr>\n",
       "    <tr>\n",
       "      <th>172200</th>\n",
       "      <td>17368056</td>\n",
       "      <td>0.371014</td>\n",
       "      <td>Low</td>\n",
       "      <td>0.0</td>\n",
       "      <td>1.0</td>\n",
       "    </tr>\n",
       "    <tr>\n",
       "      <th>172201</th>\n",
       "      <td>17219358</td>\n",
       "      <td>0.370083</td>\n",
       "      <td>Low</td>\n",
       "      <td>0.0</td>\n",
       "      <td>1.0</td>\n",
       "    </tr>\n",
       "  </tbody>\n",
       "</table>\n",
       "<p>172202 rows × 5 columns</p>\n",
       "</div>"
      ],
      "text/plain": [
       "           CO_ID  Churn_Probability Churn_Group  Predict_churn  Actual_churn\n",
       "0       14086666           0.474308      Medium            0.0           0.0\n",
       "1       13431983           0.254702         Low            0.0           0.0\n",
       "2       10367687           0.219533         Low            0.0           0.0\n",
       "3       16538266           0.375221         Low            0.0           0.0\n",
       "4       19522544           0.276403         Low            0.0           0.0\n",
       "...          ...                ...         ...            ...           ...\n",
       "172197  13531232           0.399784         Low            0.0           1.0\n",
       "172198  11882279           0.673723        High            1.0           1.0\n",
       "172199  19139483           0.398265         Low            0.0           1.0\n",
       "172200  17368056           0.371014         Low            0.0           1.0\n",
       "172201  17219358           0.370083         Low            0.0           1.0\n",
       "\n",
       "[172202 rows x 5 columns]"
      ]
     },
     "execution_count": 108,
     "metadata": {},
     "output_type": "execute_result"
    }
   ],
   "source": [
    "model_output = churn_df[['CO_ID','Churn_Probability','Churn_Group','Predict_churn','Actual_churn']]\n",
    "model_output"
   ]
  },
  {
   "cell_type": "code",
   "execution_count": 109,
   "metadata": {},
   "outputs": [
    {
     "data": {
      "text/plain": [
       "Index(['AON', 'AGE', 'NUMBER_OF_OS_BILLS', 'RECURRING_AMT', 'LAST_BILL_AMT',\n",
       "       'LAST_PAY_AMT', 'TOT_BILLED_OS_AMT', 'COMMIT_MONTH', 'LEFT_DAYS',\n",
       "       'FiveG_plan', 'LEFT_MONTHS', 'jan_package', 'jan_offer_price',\n",
       "       'GTL_FACTOR', 'jan_revenue', 'jan_data_usage', 'jan_in_call_amt',\n",
       "       'jan_in_call_cnt', 'jan_out_call_amt', 'jan_out_call_cnt', 'jan_bill',\n",
       "       'CIVIL_ID_VOICE_IN_COMMITMENT_LINE_CNT',\n",
       "       'CIVIL_ID_VOICE_NOT_COMMITTED_LINE_CNT',\n",
       "       'CIVIL_ID_DATA_IN_COMMITMENT_LINE_CNT',\n",
       "       'CIVIL_ID_DATA_NOT_COMMITTED_LINE_CNT', 'value_base_seg_1 WBB H',\n",
       "       'value_base_seg_2 WBB M', 'value_base_seg_3 WBB L',\n",
       "       'value_base_seg_7.Internal Test', 'value_base_seg_?',\n",
       "       'value_base_seg_nan', 'BARRING_STATUS_?', 'BARRING_STATUS_BARRED',\n",
       "       'BARRING_STATUS_NOT BARRED', 'BARRING_STATUS_nan',\n",
       "       'ACTIVATION_CHANNEL_TYPE_?', 'ACTIVATION_CHANNEL_TYPE_nan',\n",
       "       'Contarct_status_?', 'Contarct_status_COMMITED',\n",
       "       'Contarct_status_NON_COMMITED', 'Contarct_status_nan',\n",
       "       'sim_device_commit_device', 'sim_device_commit_sim',\n",
       "       'sim_device_commit_nan', 'A_freeze_status_?', 'A_freeze_status_A',\n",
       "       'A_freeze_status_nan', 'D_freeze_status_?', 'D_freeze_status_D',\n",
       "       'D_freeze_status_nan', 'TOP_LOC_5G_?', 'TOP_LOC_5G_N', 'TOP_LOC_5G_Y',\n",
       "       'TOP_LOC_5G_nan', 'congested_flag_?', 'congested_flag_N',\n",
       "       'congested_flag_Y', 'congested_flag_nan'],\n",
       "      dtype='object')"
      ]
     },
     "execution_count": 109,
     "metadata": {},
     "output_type": "execute_result"
    }
   ],
   "source": [
    "A.columns"
   ]
  },
  {
   "cell_type": "code",
   "execution_count": null,
   "metadata": {},
   "outputs": [],
   "source": [
    "churn_df['AON']=A['AON']\n",
    "churn_df['jan_data_usage']=A['jan_data_usage']\n",
    "churn_df['CIVIL_ID_DATA_NOT_COMMITTED_LINE_CNT']=A['CIVIL_ID_DATA_NOT_COMMITTED_LINE_CNT']\n",
    "churn_df['jan_bill']=A['jan_bill']\n",
    "churn_df['LAST_PAY_AMT']=A['LAST_PAY_AMT']\n",
    "churn_df['jan_revenue']=A['jan_revenue']\n"
   ]
  },
  {
   "cell_type": "code",
   "execution_count": 420,
   "metadata": {},
   "outputs": [],
   "source": [
    "def quantile_value(a):\n",
    "    print(\"Count :\",len(churn_df[churn_df['Quantile_cut']==a]))\n",
    "    print(\"Pre_Churn_Count :\",churn_df['Predict_churn'][churn_df['Quantile_cut']==a].sum())\n",
    "    #print(\"churn_Group :\",churn_df['Churn_Group'][churn_df['Quantile_cut']==a].unique())\n",
    "    print(\"Churn_Actual_Count :\",churn_df['Actual_churn'][churn_df['Quantile_cut']==a].sum())\n",
    "    print(\"Churn_Actual_AprobRate :\",churn_df['Actual_churn'][churn_df['Quantile_cut']==a].mean())\n",
    "    print(\"Churn_Pred_Probability\" ,churn_df['Churn_Probability'][churn_df['Quantile_cut']==a].mean())\n",
    "    \n",
    "    print(\"AON:\",churn_df['AON'][churn_df['Quantile_cut']==a].sum())\n",
    "    print(\"jan_data_usage : \",churn_df['jan_data_usage'][churn_df['Quantile_cut']==a].sum())\n",
    "    print(\"CIVIL_ID_DATA_NOT_COMMITTED_LINE_CNT\",churn_df['CIVIL_ID_DATA_NOT_COMMITTED_LINE_CNT'][churn_df['Quantile_cut']==a].sum())                                               \n",
    "    print(\"jan_bill :\",churn_df['jan_bill'][churn_df['Quantile_cut']==a].sum())\n",
    "    print(\"LAST_PAY_AMT\",churn_df['LAST_PAY_AMT'][churn_df['Quantile_cut']==a].sum())\n",
    "    "
   ]
  },
  {
   "cell_type": "code",
   "execution_count": 497,
   "metadata": {},
   "outputs": [
    {
     "name": "stdout",
     "output_type": "stream",
     "text": [
      "Count : 788\n",
      "Pre_Churn_Count : 788.0\n",
      "Churn_Actual_Count : 759.0\n",
      "Churn_Actual_AprobRate : 0.9631979695431472\n",
      "Churn_Pred_Probability 0.9731594404147103\n",
      "AON: 572567.0\n",
      "jan_data_usage :  89762786.23900001\n",
      "CIVIL_ID_DATA_NOT_COMMITTED_LINE_CNT 1132.0\n",
      "jan_bill : 4456.4\n",
      "LAST_PAY_AMT 17887.968\n"
     ]
    }
   ],
   "source": [
    "quantile_value('20')"
   ]
  },
  {
   "cell_type": "markdown",
   "metadata": {},
   "source": [
    "n_train = len(X_train)\n",
    "n_test = len(X_test)\n",
    "n_val = len(X_val)\n",
    "n_samples =[n_train,n_test,n_val]"
   ]
  },
  {
   "cell_type": "code",
   "execution_count": 324,
   "metadata": {},
   "outputs": [
    {
     "data": {
      "image/png": "[encoded data removed]",
      "text/plain": [
       "<Figure size 432x288 with 1 Axes>"
      ]
     },
     "metadata": {
      "needs_background": "light"
     },
     "output_type": "display_data"
    }
   ],
   "source": [
    "samples_df = pd.DataFrame(n_samples,columns=['n_samples'],index = ['train','test','val'])\n",
    "ax2 = samples_df.plot.bar(width=.9)\n",
    "plt.xticks(rotation=0)\n",
    "for i, v in samples_df.reset_index().iterrows():\n",
    "    ax2.text(i, v.n_samples + 0.2 , v.n_samples,  color='black')"
   ]
  },
  {
   "cell_type": "code",
   "execution_count": 325,
   "metadata": {},
   "outputs": [],
   "source": [
    "#Exporting the data\n",
    "model_output.to_csv(\"/home/cvmadm/post_ls_churn/feb_churn_30days.csv\")"
   ]
  },
  {
   "cell_type": "code",
   "execution_count": 326,
   "metadata": {},
   "outputs": [
    {
     "ename": "ValueError",
     "evalue": "The truth value of a Series is ambiguous. Use a.empty, a.bool(), a.item(), a.any() or a.all().",
     "output_type": "error",
     "traceback": [
      "\u001b[0;31m---------------------------------------------------------------------------\u001b[0m",
      "\u001b[0;31mValueError\u001b[0m                                Traceback (most recent call last)",
      "\u001b[0;32m<ipython-input-326-aa406d0d162e>\u001b[0m in \u001b[0;36m<module>\u001b[0;34m\u001b[0m\n\u001b[1;32m      1\u001b[0m model_output['Churn_output'] = ['Y' if (model_output['Churn_Group'] == 'Medium') &\n\u001b[1;32m      2\u001b[0m                                 \u001b[0;34m(\u001b[0m\u001b[0mmodel_output\u001b[0m\u001b[0;34m[\u001b[0m\u001b[0;34m'Churn_Group'\u001b[0m\u001b[0;34m]\u001b[0m \u001b[0;34m==\u001b[0m \u001b[0;34m'High'\u001b[0m\u001b[0;34m)\u001b[0m \u001b[0;34m&\u001b[0m\u001b[0;34m\u001b[0m\u001b[0;34m\u001b[0m\u001b[0m\n\u001b[0;32m----> 3\u001b[0;31m                                 (model_output['Churn_Group'] == 'V High') else 'N']\n\u001b[0m",
      "\u001b[0;32m~/anaconda3/lib/python3.7/site-packages/pandas/core/generic.py\u001b[0m in \u001b[0;36m__nonzero__\u001b[0;34m(self)\u001b[0m\n\u001b[1;32m   1553\u001b[0m             \u001b[0;34m\"The truth value of a {0} is ambiguous. \"\u001b[0m\u001b[0;34m\u001b[0m\u001b[0;34m\u001b[0m\u001b[0m\n\u001b[1;32m   1554\u001b[0m             \"Use a.empty, a.bool(), a.item(), a.any() or a.all().\".format(\n\u001b[0;32m-> 1555\u001b[0;31m                 \u001b[0mself\u001b[0m\u001b[0;34m.\u001b[0m\u001b[0m__class__\u001b[0m\u001b[0;34m.\u001b[0m\u001b[0m__name__\u001b[0m\u001b[0;34m\u001b[0m\u001b[0;34m\u001b[0m\u001b[0m\n\u001b[0m\u001b[1;32m   1556\u001b[0m             )\n\u001b[1;32m   1557\u001b[0m         )\n",
      "\u001b[0;31mValueError\u001b[0m: The truth value of a Series is ambiguous. Use a.empty, a.bool(), a.item(), a.any() or a.all()."
     ]
    }
   ],
   "source": [
    "model_output['Churn_output'] = ['Y' if (model_output['Churn_Group'] == 'Medium') &\n",
    "                                (model_output['Churn_Group'] == 'High') &\n",
    "                                (model_output['Churn_Group'] == 'V High') else 'N']"
   ]
  },
  {
   "cell_type": "code",
   "execution_count": 327,
   "metadata": {},
   "outputs": [],
   "source": [
    "Churn_output = []\n",
    "for row in model_output['Churn_Group']:\n",
    "    if row == 'Medium':\n",
    "        Churn_output.append('Y')\n",
    "    elif row == 'High':\n",
    "        Churn_output.append('Y')\n",
    "    elif row == 'V High':\n",
    "        Churn_output.append('Y')\n",
    "    else:\n",
    "        Churn_output.append('N')"
   ]
  },
  {
   "cell_type": "code",
   "execution_count": 328,
   "metadata": {},
   "outputs": [],
   "source": [
    "model_output['Churn_output'] = Churn_output"
   ]
  },
  {
   "cell_type": "code",
   "execution_count": 329,
   "metadata": {},
   "outputs": [
    {
     "data": {
      "text/plain": [
       "N    186259\n",
       "Y     34902\n",
       "Name: Churn_output, dtype: int64"
      ]
     },
     "execution_count": 329,
     "metadata": {},
     "output_type": "execute_result"
    }
   ],
   "source": [
    "model_output.Churn_output.value_counts()"
   ]
  },
  {
   "cell_type": "code",
   "execution_count": 330,
   "metadata": {},
   "outputs": [
    {
     "ename": "ValueError",
     "evalue": "The truth value of a Series is ambiguous. Use a.empty, a.bool(), a.item(), a.any() or a.all().",
     "output_type": "error",
     "traceback": [
      "\u001b[0;31m---------------------------------------------------------------------------\u001b[0m",
      "\u001b[0;31mValueError\u001b[0m                                Traceback (most recent call last)",
      "\u001b[0;32m<ipython-input-330-e7e77328d354>\u001b[0m in \u001b[0;36m<module>\u001b[0;34m\u001b[0m\n\u001b[0;32m----> 1\u001b[0;31m \u001b[0mmodel_output\u001b[0m\u001b[0;34m[\u001b[0m\u001b[0;34m'Churn_output'\u001b[0m\u001b[0;34m]\u001b[0m \u001b[0;34m=\u001b[0m \u001b[0;34m[\u001b[0m\u001b[0;34m'Y'\u001b[0m \u001b[0;32mif\u001b[0m \u001b[0mmodel_output\u001b[0m\u001b[0;34m[\u001b[0m\u001b[0;34m'Churn_Group'\u001b[0m\u001b[0;34m]\u001b[0m\u001b[0;34m.\u001b[0m\u001b[0misin\u001b[0m\u001b[0;34m(\u001b[0m\u001b[0;34m[\u001b[0m\u001b[0;34m'High'\u001b[0m\u001b[0;34m,\u001b[0m\u001b[0;34m'V High'\u001b[0m\u001b[0;34m,\u001b[0m\u001b[0;34m'Medium'\u001b[0m\u001b[0;34m]\u001b[0m\u001b[0;34m)\u001b[0m \u001b[0;32melse\u001b[0m \u001b[0;34m'N'\u001b[0m\u001b[0;34m]\u001b[0m\u001b[0;34m\u001b[0m\u001b[0;34m\u001b[0m\u001b[0m\n\u001b[0m",
      "\u001b[0;32m~/anaconda3/lib/python3.7/site-packages/pandas/core/generic.py\u001b[0m in \u001b[0;36m__nonzero__\u001b[0;34m(self)\u001b[0m\n\u001b[1;32m   1553\u001b[0m             \u001b[0;34m\"The truth value of a {0} is ambiguous. \"\u001b[0m\u001b[0;34m\u001b[0m\u001b[0;34m\u001b[0m\u001b[0m\n\u001b[1;32m   1554\u001b[0m             \"Use a.empty, a.bool(), a.item(), a.any() or a.all().\".format(\n\u001b[0;32m-> 1555\u001b[0;31m                 \u001b[0mself\u001b[0m\u001b[0;34m.\u001b[0m\u001b[0m__class__\u001b[0m\u001b[0;34m.\u001b[0m\u001b[0m__name__\u001b[0m\u001b[0;34m\u001b[0m\u001b[0;34m\u001b[0m\u001b[0m\n\u001b[0m\u001b[1;32m   1556\u001b[0m             )\n\u001b[1;32m   1557\u001b[0m         )\n",
      "\u001b[0;31mValueError\u001b[0m: The truth value of a Series is ambiguous. Use a.empty, a.bool(), a.item(), a.any() or a.all()."
     ]
    }
   ],
   "source": [
    "model_output['Churn_output'] = ['Y' if model_output['Churn_Group'].isin(['High','V High','Medium']) else 'N']"
   ]
  },
  {
   "cell_type": "code",
   "execution_count": 331,
   "metadata": {},
   "outputs": [
    {
     "data": {
      "text/html": [
       "<div>\n",
       "<style scoped>\n",
       "    .dataframe tbody tr th:only-of-type {\n",
       "        vertical-align: middle;\n",
       "    }\n",
       "\n",
       "    .dataframe tbody tr th {\n",
       "        vertical-align: top;\n",
       "    }\n",
       "\n",
       "    .dataframe thead th {\n",
       "        text-align: right;\n",
       "    }\n",
       "</style>\n",
       "<table border=\"1\" class=\"dataframe\">\n",
       "  <thead>\n",
       "    <tr style=\"text-align: right;\">\n",
       "      <th></th>\n",
       "      <th>CO_ID</th>\n",
       "      <th>Churn_Probability</th>\n",
       "      <th>Churn_Group</th>\n",
       "      <th>Predict_churn</th>\n",
       "      <th>Actual_churn</th>\n",
       "      <th>Churn_output</th>\n",
       "    </tr>\n",
       "  </thead>\n",
       "  <tbody>\n",
       "  </tbody>\n",
       "</table>\n",
       "</div>"
      ],
      "text/plain": [
       "Empty DataFrame\n",
       "Columns: [CO_ID, Churn_Probability, Churn_Group, Predict_churn, Actual_churn, Churn_output]\n",
       "Index: []"
      ]
     },
     "execution_count": 331,
     "metadata": {},
     "output_type": "execute_result"
    }
   ],
   "source": [
    "model_output[(model_output['Churn_Group'] == 'High')&(model_output['Churn_Group'] == 'Low')]"
   ]
  },
  {
   "cell_type": "code",
   "execution_count": 332,
   "metadata": {},
   "outputs": [
    {
     "data": {
      "text/html": [
       "<div>\n",
       "<style scoped>\n",
       "    .dataframe tbody tr th:only-of-type {\n",
       "        vertical-align: middle;\n",
       "    }\n",
       "\n",
       "    .dataframe tbody tr th {\n",
       "        vertical-align: top;\n",
       "    }\n",
       "\n",
       "    .dataframe thead th {\n",
       "        text-align: right;\n",
       "    }\n",
       "</style>\n",
       "<table border=\"1\" class=\"dataframe\">\n",
       "  <thead>\n",
       "    <tr style=\"text-align: right;\">\n",
       "      <th></th>\n",
       "      <th>CO_ID</th>\n",
       "      <th>Churn_Probability</th>\n",
       "      <th>Churn_Group</th>\n",
       "      <th>Predict_churn</th>\n",
       "      <th>Actual_churn</th>\n",
       "      <th>Churn_output</th>\n",
       "    </tr>\n",
       "  </thead>\n",
       "  <tbody>\n",
       "    <tr>\n",
       "      <td>4</td>\n",
       "      <td>13063358</td>\n",
       "      <td>0.287317</td>\n",
       "      <td>Low</td>\n",
       "      <td>0.0</td>\n",
       "      <td>0.0</td>\n",
       "      <td>N</td>\n",
       "    </tr>\n",
       "    <tr>\n",
       "      <td>10</td>\n",
       "      <td>11751708</td>\n",
       "      <td>0.238797</td>\n",
       "      <td>Low</td>\n",
       "      <td>0.0</td>\n",
       "      <td>0.0</td>\n",
       "      <td>N</td>\n",
       "    </tr>\n",
       "    <tr>\n",
       "      <td>12</td>\n",
       "      <td>16904342</td>\n",
       "      <td>0.274445</td>\n",
       "      <td>Low</td>\n",
       "      <td>0.0</td>\n",
       "      <td>0.0</td>\n",
       "      <td>N</td>\n",
       "    </tr>\n",
       "    <tr>\n",
       "      <td>13</td>\n",
       "      <td>13441037</td>\n",
       "      <td>0.211421</td>\n",
       "      <td>Low</td>\n",
       "      <td>0.0</td>\n",
       "      <td>0.0</td>\n",
       "      <td>N</td>\n",
       "    </tr>\n",
       "    <tr>\n",
       "      <td>16</td>\n",
       "      <td>13044842</td>\n",
       "      <td>0.300256</td>\n",
       "      <td>Low</td>\n",
       "      <td>0.0</td>\n",
       "      <td>0.0</td>\n",
       "      <td>N</td>\n",
       "    </tr>\n",
       "    <tr>\n",
       "      <td>...</td>\n",
       "      <td>...</td>\n",
       "      <td>...</td>\n",
       "      <td>...</td>\n",
       "      <td>...</td>\n",
       "      <td>...</td>\n",
       "      <td>...</td>\n",
       "    </tr>\n",
       "    <tr>\n",
       "      <td>221152</td>\n",
       "      <td>19645672</td>\n",
       "      <td>0.357696</td>\n",
       "      <td>Low</td>\n",
       "      <td>0.0</td>\n",
       "      <td>1.0</td>\n",
       "      <td>N</td>\n",
       "    </tr>\n",
       "    <tr>\n",
       "      <td>221153</td>\n",
       "      <td>12112871</td>\n",
       "      <td>0.238353</td>\n",
       "      <td>Low</td>\n",
       "      <td>0.0</td>\n",
       "      <td>1.0</td>\n",
       "      <td>N</td>\n",
       "    </tr>\n",
       "    <tr>\n",
       "      <td>221154</td>\n",
       "      <td>17861704</td>\n",
       "      <td>0.224363</td>\n",
       "      <td>Low</td>\n",
       "      <td>0.0</td>\n",
       "      <td>1.0</td>\n",
       "      <td>N</td>\n",
       "    </tr>\n",
       "    <tr>\n",
       "      <td>221155</td>\n",
       "      <td>13531232</td>\n",
       "      <td>0.275357</td>\n",
       "      <td>Low</td>\n",
       "      <td>0.0</td>\n",
       "      <td>1.0</td>\n",
       "      <td>N</td>\n",
       "    </tr>\n",
       "    <tr>\n",
       "      <td>221159</td>\n",
       "      <td>17219358</td>\n",
       "      <td>0.226531</td>\n",
       "      <td>Low</td>\n",
       "      <td>0.0</td>\n",
       "      <td>1.0</td>\n",
       "      <td>N</td>\n",
       "    </tr>\n",
       "  </tbody>\n",
       "</table>\n",
       "<p>62630 rows × 6 columns</p>\n",
       "</div>"
      ],
      "text/plain": [
       "           CO_ID  Churn_Probability Churn_Group  Predict_churn  Actual_churn  \\\n",
       "4       13063358           0.287317         Low            0.0           0.0   \n",
       "10      11751708           0.238797         Low            0.0           0.0   \n",
       "12      16904342           0.274445         Low            0.0           0.0   \n",
       "13      13441037           0.211421         Low            0.0           0.0   \n",
       "16      13044842           0.300256         Low            0.0           0.0   \n",
       "...          ...                ...         ...            ...           ...   \n",
       "221152  19645672           0.357696         Low            0.0           1.0   \n",
       "221153  12112871           0.238353         Low            0.0           1.0   \n",
       "221154  17861704           0.224363         Low            0.0           1.0   \n",
       "221155  13531232           0.275357         Low            0.0           1.0   \n",
       "221159  17219358           0.226531         Low            0.0           1.0   \n",
       "\n",
       "       Churn_output  \n",
       "4                 N  \n",
       "10                N  \n",
       "12                N  \n",
       "13                N  \n",
       "16                N  \n",
       "...             ...  \n",
       "221152            N  \n",
       "221153            N  \n",
       "221154            N  \n",
       "221155            N  \n",
       "221159            N  \n",
       "\n",
       "[62630 rows x 6 columns]"
      ]
     },
     "execution_count": 332,
     "metadata": {},
     "output_type": "execute_result"
    }
   ],
   "source": [
    "model_output[(model_output['Churn_Group'] == 'Low')]"
   ]
  },
  {
   "cell_type": "code",
   "execution_count": 333,
   "metadata": {},
   "outputs": [
    {
     "data": {
      "text/html": [
       "<div>\n",
       "<style scoped>\n",
       "    .dataframe tbody tr th:only-of-type {\n",
       "        vertical-align: middle;\n",
       "    }\n",
       "\n",
       "    .dataframe tbody tr th {\n",
       "        vertical-align: top;\n",
       "    }\n",
       "\n",
       "    .dataframe thead th {\n",
       "        text-align: right;\n",
       "    }\n",
       "</style>\n",
       "<table border=\"1\" class=\"dataframe\">\n",
       "  <thead>\n",
       "    <tr style=\"text-align: right;\">\n",
       "      <th></th>\n",
       "      <th>CO_ID</th>\n",
       "      <th>Churn_Probability</th>\n",
       "      <th>Churn_Group</th>\n",
       "      <th>Predict_churn</th>\n",
       "      <th>Actual_churn</th>\n",
       "      <th>Churn_output</th>\n",
       "    </tr>\n",
       "  </thead>\n",
       "  <tbody>\n",
       "    <tr>\n",
       "      <td>61</td>\n",
       "      <td>11934481</td>\n",
       "      <td>0.666584</td>\n",
       "      <td>High</td>\n",
       "      <td>1.0</td>\n",
       "      <td>0.0</td>\n",
       "      <td>Y</td>\n",
       "    </tr>\n",
       "    <tr>\n",
       "      <td>84</td>\n",
       "      <td>14163605</td>\n",
       "      <td>0.742875</td>\n",
       "      <td>High</td>\n",
       "      <td>1.0</td>\n",
       "      <td>0.0</td>\n",
       "      <td>Y</td>\n",
       "    </tr>\n",
       "    <tr>\n",
       "      <td>130</td>\n",
       "      <td>17762741</td>\n",
       "      <td>0.621772</td>\n",
       "      <td>High</td>\n",
       "      <td>1.0</td>\n",
       "      <td>0.0</td>\n",
       "      <td>Y</td>\n",
       "    </tr>\n",
       "    <tr>\n",
       "      <td>137</td>\n",
       "      <td>18120232</td>\n",
       "      <td>0.625222</td>\n",
       "      <td>High</td>\n",
       "      <td>1.0</td>\n",
       "      <td>0.0</td>\n",
       "      <td>Y</td>\n",
       "    </tr>\n",
       "    <tr>\n",
       "      <td>159</td>\n",
       "      <td>13025817</td>\n",
       "      <td>0.737193</td>\n",
       "      <td>High</td>\n",
       "      <td>1.0</td>\n",
       "      <td>0.0</td>\n",
       "      <td>Y</td>\n",
       "    </tr>\n",
       "    <tr>\n",
       "      <td>...</td>\n",
       "      <td>...</td>\n",
       "      <td>...</td>\n",
       "      <td>...</td>\n",
       "      <td>...</td>\n",
       "      <td>...</td>\n",
       "      <td>...</td>\n",
       "    </tr>\n",
       "    <tr>\n",
       "      <td>220979</td>\n",
       "      <td>17582765</td>\n",
       "      <td>0.685605</td>\n",
       "      <td>High</td>\n",
       "      <td>1.0</td>\n",
       "      <td>1.0</td>\n",
       "      <td>Y</td>\n",
       "    </tr>\n",
       "    <tr>\n",
       "      <td>220980</td>\n",
       "      <td>12112749</td>\n",
       "      <td>0.679696</td>\n",
       "      <td>High</td>\n",
       "      <td>1.0</td>\n",
       "      <td>1.0</td>\n",
       "      <td>Y</td>\n",
       "    </tr>\n",
       "    <tr>\n",
       "      <td>221027</td>\n",
       "      <td>16351232</td>\n",
       "      <td>0.694194</td>\n",
       "      <td>High</td>\n",
       "      <td>1.0</td>\n",
       "      <td>1.0</td>\n",
       "      <td>Y</td>\n",
       "    </tr>\n",
       "    <tr>\n",
       "      <td>221062</td>\n",
       "      <td>18115359</td>\n",
       "      <td>0.662877</td>\n",
       "      <td>High</td>\n",
       "      <td>1.0</td>\n",
       "      <td>1.0</td>\n",
       "      <td>Y</td>\n",
       "    </tr>\n",
       "    <tr>\n",
       "      <td>221077</td>\n",
       "      <td>17096089</td>\n",
       "      <td>0.795480</td>\n",
       "      <td>High</td>\n",
       "      <td>1.0</td>\n",
       "      <td>1.0</td>\n",
       "      <td>Y</td>\n",
       "    </tr>\n",
       "  </tbody>\n",
       "</table>\n",
       "<p>7568 rows × 6 columns</p>\n",
       "</div>"
      ],
      "text/plain": [
       "           CO_ID  Churn_Probability Churn_Group  Predict_churn  Actual_churn  \\\n",
       "61      11934481           0.666584        High            1.0           0.0   \n",
       "84      14163605           0.742875        High            1.0           0.0   \n",
       "130     17762741           0.621772        High            1.0           0.0   \n",
       "137     18120232           0.625222        High            1.0           0.0   \n",
       "159     13025817           0.737193        High            1.0           0.0   \n",
       "...          ...                ...         ...            ...           ...   \n",
       "220979  17582765           0.685605        High            1.0           1.0   \n",
       "220980  12112749           0.679696        High            1.0           1.0   \n",
       "221027  16351232           0.694194        High            1.0           1.0   \n",
       "221062  18115359           0.662877        High            1.0           1.0   \n",
       "221077  17096089           0.795480        High            1.0           1.0   \n",
       "\n",
       "       Churn_output  \n",
       "61                Y  \n",
       "84                Y  \n",
       "130               Y  \n",
       "137               Y  \n",
       "159               Y  \n",
       "...             ...  \n",
       "220979            Y  \n",
       "220980            Y  \n",
       "221027            Y  \n",
       "221062            Y  \n",
       "221077            Y  \n",
       "\n",
       "[7568 rows x 6 columns]"
      ]
     },
     "execution_count": 333,
     "metadata": {},
     "output_type": "execute_result"
    }
   ],
   "source": [
    "model_output[(model_output['Churn_Group'] == 'High')]"
   ]
  },
  {
   "cell_type": "code",
   "execution_count": 335,
   "metadata": {},
   "outputs": [],
   "source": [
    "#Exporting the data\n",
    "model_output.to_csv(\"/home/cvmadm/post_ls_churn/feb_churn_30days.csv\")"
   ]
  },
  {
   "cell_type": "code",
   "execution_count": null,
   "metadata": {},
   "outputs": [],
   "source": []
  }
 ],
 "metadata": {
  "kernelspec": {
   "display_name": "Python 3",
   "language": "python",
   "name": "python3"
  },
  "language_info": {
   "codemirror_mode": {
    "name": "ipython",
    "version": 3
   },
   "file_extension": ".py",
   "mimetype": "text/x-python",
   "name": "python",
   "nbconvert_exporter": "python",
   "pygments_lexer": "ipython3",
   "version": "3.7.5"
  }
 },
 "nbformat": 4,
 "nbformat_minor": 2
}
